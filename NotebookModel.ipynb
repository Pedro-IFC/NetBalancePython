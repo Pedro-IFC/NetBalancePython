{
 "cells": [
  {
   "cell_type": "code",
   "execution_count": 1,
   "id": "f49a8298-b2cd-48e1-9c13-4317b8e0fa47",
   "metadata": {},
   "outputs": [],
   "source": [
    "import numpy as np\n",
    "import copy\n",
    "from typing import List, Tuple\n",
    "import matplotlib.pyplot as plt\n",
    "from dotenv import load_dotenv\n",
    "import os\n",
    "from matplotlib.ticker import MaxNLocator\n",
    "\n",
    "from methods import generate_tester, select_parent_torneio, Individual"
   ]
  },
  {
   "cell_type": "code",
   "execution_count": 2,
   "id": "b21d3ef1-c705-49a8-8d1b-f1f6e95f8fef",
   "metadata": {},
   "outputs": [],
   "source": [
    "load_dotenv()\n",
    "\n",
    "POP_SIZE = int(os.getenv(\"POP_SIZE\", 10))\n",
    "GEN = int(os.getenv(\"GEN\", 1000))\n",
    "MU_TAX_1 = float(os.getenv(\"MU_TAX\", 0.05))\n",
    "\n",
    "NUM_ISLAND = int(os.getenv(\"NUM_ISLAND\", 3))\n",
    "MIGRATION_INT = int(os.getenv(\"MIGRATION_INT\", 10))\n",
    "MIGRATION_SIZE = int(os.getenv(\"MIGRATION_SIZE\", 3))\n",
    "\n",
    "TOURNAMENT_SIZE = int(os.getenv(\"TOURNAMENT_SIZE\", 2))"
   ]
  },
  {
   "cell_type": "code",
   "execution_count": 3,
   "id": "c6af78e1-60a7-4028-9cae-562aa5b0c154",
   "metadata": {},
   "outputs": [],
   "source": [
    "def run_ag(initial_positions: List[List[float]], min_matrix: List[List[float]], \n",
    "           max_matrix: List[List[float]], b_vector: List[float]) -> Individual:\n",
    "    \n",
    "    template = Individual(initial_positions, min_matrix, max_matrix, b_vector)\n",
    "    tester = generate_tester(initial_positions, min_matrix, max_matrix)\n",
    "    \n",
    "    population = [template.copy()]\n",
    "    for _ in range(1, POP_SIZE):\n",
    "        population.append(template.randomize())\n",
    "    \n",
    "    best_individual = None\n",
    "    best_fitness = float('-inf')\n",
    "    history = []\n",
    "    \n",
    "    MU_TAX_BASE = MU_TAX_1\n",
    "    MU_TAX = MU_TAX_BASE\n",
    "    geracoes_sem_melhoria = 0\n",
    "\n",
    "    for gen in range(GEN):\n",
    "        fitness_list = [ind.fitness() for ind in population]\n",
    "        \n",
    "        current_best_idx = np.argmax(fitness_list)\n",
    "        current_best = population[current_best_idx]\n",
    "        current_fitness = fitness_list[current_best_idx]\n",
    "        \n",
    "        if current_fitness > best_fitness:\n",
    "            best_fitness = current_fitness\n",
    "            best_individual = current_best.copy()\n",
    "            geracoes_sem_melhoria = 0\n",
    "            MU_TAX = MU_TAX_BASE  # Resetar para o valor base se houve melhora\n",
    "        else:\n",
    "            geracoes_sem_melhoria += 1\n",
    "            if geracoes_sem_melhoria % 50 == 0:\n",
    "                MU_TAX += 0.025  # Aumenta gradualmente a taxa\n",
    "\n",
    "        history.append(current_fitness)\n",
    "        \n",
    "        new_population = []\n",
    "        tentativas = 0\n",
    "        while len(new_population) < POP_SIZE and tentativas < 10 * POP_SIZE:\n",
    "            parents = select_parent_torneio(population, fitness_list, TOURNAMENT_SIZE)\n",
    "            child = parents[0].cross(parents[1])\n",
    "            child = child.mutate(MU_TAX)\n",
    "\n",
    "            fitness_p1 = parents[0].fitness()\n",
    "            fitness_p2 = parents[1].fitness()\n",
    "            fitness_child = child.fitness()\n",
    "\n",
    "            if fitness_child > max(fitness_p1, fitness_p2):\n",
    "                new_population.append(child)\n",
    "            tentativas += 1\n",
    "\n",
    "        while len(new_population) < POP_SIZE:\n",
    "            new_population.append(best_individual.copy())\n",
    "        \n",
    "        population = new_population\n",
    "\n",
    "    return best_individual, history\n"
   ]
  },
  {
   "cell_type": "code",
   "execution_count": 4,
   "id": "ef25a935-85d3-4342-bdba-a8da11ae5e2e",
   "metadata": {},
   "outputs": [],
   "source": [
    "def run_ag_island(initial_positions: List[List[float]], min_matrix: List[List[float]], \n",
    "                  max_matrix: List[List[float]], b_vector: List[float], \n",
    "                  num_islands: int, migration_interval: int, migration_size: int\n",
    "                 ) -> Tuple[Individual, List[List[float]]]:\n",
    "    \n",
    "    template = Individual(initial_positions, min_matrix, max_matrix, b_vector)\n",
    "    tester = generate_tester(initial_positions, min_matrix, max_matrix)\n",
    "    \n",
    "    history = [[] for _ in range(num_islands)]\n",
    "    islands = []\n",
    "\n",
    "    # Populações iniciais por ilha\n",
    "    for _ in range(num_islands):\n",
    "        pop = [template.copy()]\n",
    "        for _ in range(1, POP_SIZE):\n",
    "            pop.append(template.randomize())\n",
    "        islands.append(pop)\n",
    "\n",
    "    best_global = None\n",
    "    best_global_fitness = float('-inf')\n",
    "\n",
    "    MU_TAX_BASE = MU_TAX_1\n",
    "    MU_TAX = MU_TAX_BASE\n",
    "    geracoes_sem_melhoria = 0\n",
    "\n",
    "    for gen in range(GEN):\n",
    "        for island_idx in range(num_islands):\n",
    "            pop = islands[island_idx]\n",
    "            fitness_list = [ind.fitness() for ind in pop]\n",
    "\n",
    "            current_best_idx = np.argmax(fitness_list)\n",
    "            current_best = pop[current_best_idx]\n",
    "            current_fitness = fitness_list[current_best_idx]\n",
    "\n",
    "            # Atualiza melhor global\n",
    "            if current_fitness > best_global_fitness:\n",
    "                best_global_fitness = current_fitness\n",
    "                best_global = current_best.copy()\n",
    "                geracoes_sem_melhoria = 0\n",
    "                MU_TAX = MU_TAX_BASE\n",
    "            else:\n",
    "                geracoes_sem_melhoria += 1\n",
    "                if geracoes_sem_melhoria % 50 == 0:\n",
    "                    MU_TAX += 0.025  # aumento gradual\n",
    "\n",
    "            history[island_idx].append(current_fitness)\n",
    "\n",
    "            new_pop = []\n",
    "            tentativas = 0\n",
    "            MAX_TENTATIVAS = 10 * POP_SIZE\n",
    "            \n",
    "            while len(new_pop) < POP_SIZE and tentativas < MAX_TENTATIVAS:\n",
    "                parents = select_parent_torneio(pop, fitness_list, TOURNAMENT_SIZE)\n",
    "                child = parents[0].cross(parents[1])\n",
    "                child = child.mutate(MU_TAX)\n",
    "            \n",
    "                fitness_p1 = parents[0].fitness()\n",
    "                fitness_p2 = parents[1].fitness()\n",
    "                fitness_child = child.fitness()\n",
    "            \n",
    "                if fitness_child > max(fitness_p1, fitness_p2):\n",
    "                    new_pop.append(child)\n",
    "                \n",
    "                tentativas += 1\n",
    "            \n",
    "            if len(new_pop) < POP_SIZE:\n",
    "                best_idx = np.argmax(fitness_list)\n",
    "                best_ind = pop[best_idx].copy()\n",
    "                while len(new_pop) < POP_SIZE:\n",
    "                    new_pop.append(best_ind)\n",
    "            \n",
    "            islands[island_idx] = new_pop\n",
    "\n",
    "        # Migração entre ilhas\n",
    "        if gen % migration_interval == 0 and gen != 0 and num_islands > 1:\n",
    "            migrants = []\n",
    "            for island in islands:\n",
    "                island.sort(key=lambda ind: ind.fitness(), reverse=True)\n",
    "                migrants.append(island[:migration_size])\n",
    "            \n",
    "            for i in range(num_islands):\n",
    "                next_idx = (i + 1) % num_islands\n",
    "                islands[next_idx].sort(key=lambda ind: ind.fitness())\n",
    "                for j in range(migration_size):\n",
    "                    islands[next_idx][j] = migrants[i][j].copy()\n",
    "\n",
    "    return best_global, history\n"
   ]
  },
  {
   "cell_type": "markdown",
   "id": "7c73fafc-fccb-412b-851c-acef26b97b10",
   "metadata": {},
   "source": [
    "# 5x5"
   ]
  },
  {
   "cell_type": "code",
   "execution_count": 5,
   "id": "47daba18-c654-4ae2-acff-f8cb67920116",
   "metadata": {},
   "outputs": [
    {
     "name": "stdout",
     "output_type": "stream",
     "text": [
      "Inicial: Individual:\n",
      "[[1, 1, 0, 0, 0], [1, 1, 1, 0, 0], [0, 1, 1, 1, 0], [0, 0, 1, 1, 1], [0, 0, 0, 1, 1]]\n"
     ]
    }
   ],
   "source": [
    "initial_positions = [\n",
    "    [1, 1, 0, 0, 0],\n",
    "    [1, 1, 1, 0, 0],\n",
    "    [0, 1, 1, 1, 0],\n",
    "    [0, 0, 1, 1, 1],\n",
    "    [0, 0, 0, 1, 1]\n",
    "]\n",
    "min_matrix = [\n",
    "    [100, 80, 0, 0, 0],\n",
    "    [80, 100, 80, 0, 0],\n",
    "    [0, 80, 100, 80, 0],\n",
    "    [0, 0, 80, 100, 80],\n",
    "    [0, 0, 0, 80, 100]\n",
    "]\n",
    "max_matrix = [\n",
    "    [100, 80, 0, 0, 0],\n",
    "    [80, 100, 80, 0, 0],\n",
    "    [0, 80, 100, 80, 0],\n",
    "    [0, 0, 80, 100, 80],\n",
    "    [0, 0, 0, 80, 100]\n",
    "]\n",
    "b = [200, 75, 175, 90, 100]\n",
    "\n",
    "print(\"Inicial:\", Individual(initial_positions, min_matrix, max_matrix, b))"
   ]
  },
  {
   "cell_type": "code",
   "execution_count": 6,
   "id": "9ca8ca0e-64ea-4b25-8b08-89ece49fdab4",
   "metadata": {},
   "outputs": [],
   "source": [
    "tester = [\n",
    "    [100, 80, 0, 0, 0],\n",
    "    [80, 100, 80, 0, 0],\n",
    "    [0, 80, 100, 80, 0],\n",
    "    [0, 0, 80, 100, 80],\n",
    "    [0, 0, 0, 80, 100]\n",
    "]"
   ]
  },
  {
   "cell_type": "code",
   "execution_count": 7,
   "id": "39e73d6e-25b9-4cc2-9b24-1fcd26121cc9",
   "metadata": {},
   "outputs": [
    {
     "name": "stdout",
     "output_type": "stream",
     "text": [
      "Solução:\n",
      "== 1.5120772946859902\n",
      "== 0.6099033816425123\n",
      "== -1.3369565217391304\n",
      "== 3.2487922705314007\n",
      "== -1.5990338164251208\n",
      "Fitness inicial: 6.019191625472522\n",
      "Melhor indivíduo encontrado: Individual:\n",
      "[[1, 0, 1, 1, 0], [0, 1, 0, 0, 0], [1, 0, 1, 0, 1], [1, 0, 0, 1, 1], [0, 0, 1, 1, 1]]\n",
      "Fitness Final: 9.0\n"
     ]
    }
   ],
   "source": [
    "try:\n",
    "    A = np.array(tester)\n",
    "    b_np = np.array(b)\n",
    "    solution = np.linalg.solve(A, b_np)\n",
    "    print(\"Solução:\")\n",
    "    for s in solution:\n",
    "        print(f\"== {s}\")\n",
    "except np.linalg.LinAlgError as e:\n",
    "    print(\"Erro ao resolver:\", e)\n",
    "\n",
    "ind_initial = Individual(initial_positions, min_matrix, max_matrix, b)\n",
    "print(\"Fitness inicial:\", ind_initial.fitness())\n",
    "\n",
    "best, history_simple = run_ag(initial_positions, min_matrix, max_matrix, b)\n",
    "print(\"Melhor indivíduo encontrado:\", best)\n",
    "print(\"Fitness Final:\", best.fitness())"
   ]
  },
  {
   "cell_type": "code",
   "execution_count": 8,
   "id": "6946406a-41f1-4fa2-af80-876c31dbc2af",
   "metadata": {},
   "outputs": [
    {
     "data": {
      "image/png": "[encoded data removed]",
      "text/plain": [
       "<Figure size 720x432 with 1 Axes>"
      ]
     },
     "metadata": {
      "needs_background": "light"
     },
     "output_type": "display_data"
    }
   ],
   "source": [
    "plt.figure(figsize=(10, 6))\n",
    "plt.plot(\n",
    "    range(len(history_simple)), \n",
    "    history_simple, \n",
    "    'b-', \n",
    "    label='AG Padrão'\n",
    ")\n",
    "plt.title('Evolução do Fitness (5x5)')\n",
    "plt.xlabel('Geração')\n",
    "plt.ylabel('Melhor Fitness')\n",
    "plt.gca().xaxis.set_major_locator(MaxNLocator(integer=True))\n",
    "plt.legend()\n",
    "plt.grid(True)\n",
    "plt.show()"
   ]
  },
  {
   "cell_type": "code",
   "execution_count": 9,
   "id": "13380cba-989b-46a0-91c8-8b8fcdc9c06e",
   "metadata": {},
   "outputs": [
    {
     "name": "stdout",
     "output_type": "stream",
     "text": [
      "Solução:\n",
      "== 2.0\n",
      "== 0.75\n",
      "== 1.75\n",
      "== 0.2777777777777778\n",
      "== 0.7777777777777778\n",
      "Fitness Inicial: 9.0\n",
      "Melhor indivíduo com estratégia de ilhas:\n",
      "Individual:\n",
      "[[1, 0, 1, 0, 1], [0, 1, 0, 1, 0], [1, 0, 1, 0, 0], [0, 1, 0, 1, 1], [1, 0, 0, 1, 1]]\n",
      "Fitness Final: 9.0\n"
     ]
    }
   ],
   "source": [
    "best_island, history_island = run_ag_island(\n",
    "    initial_positions,\n",
    "    min_matrix,\n",
    "    max_matrix,\n",
    "    b,\n",
    "    NUM_ISLAND,\n",
    "    MIGRATION_INT,\n",
    "    MIGRATION_SIZE,\n",
    ")\n",
    "try:\n",
    "    A = np.array(best_island._initialize_graph())\n",
    "    b_np = np.array(b)\n",
    "    solution = np.linalg.solve(A, b_np)\n",
    "    print(\"Solução:\")\n",
    "    for s in solution:\n",
    "        print(f\"== {s}\")\n",
    "except np.linalg.LinAlgError as e:\n",
    "    print(\"Erro ao resolver:\", e)\n",
    "print(\"Fitness Inicial:\", best_island.fitness())\n",
    "print(\"Melhor indivíduo com estratégia de ilhas:\")\n",
    "print(best_island)\n",
    "print(\"Fitness Final:\", best_island.fitness())"
   ]
  },
  {
   "cell_type": "code",
   "execution_count": 10,
   "id": "8c2398ac-879b-4228-a4ff-353bae35dc8e",
   "metadata": {},
   "outputs": [
    {
     "data": {
      "image/png": "[encoded data removed]",
      "text/plain": [
       "<Figure size 720x432 with 1 Axes>"
      ]
     },
     "metadata": {
      "needs_background": "light"
     },
     "output_type": "display_data"
    }
   ],
   "source": [
    "\n",
    "plt.figure(figsize=(10, 6))\n",
    "for idx, history in enumerate(history_island):\n",
    "    plt.plot(\n",
    "        range(len(history)),\n",
    "        history,\n",
    "        linestyle='--',\n",
    "        label=f'Ilha {idx + 1}'\n",
    "    )\n",
    "plt.title('Evolução do Fitness (5x5)')\n",
    "plt.xlabel('Geração')\n",
    "plt.ylabel('Melhor Fitness por Ilha')\n",
    "plt.gca().xaxis.set_major_locator(MaxNLocator(integer=True))\n",
    "plt.legend()\n",
    "plt.grid(True)\n",
    "plt.show()"
   ]
  },
  {
   "cell_type": "markdown",
   "id": "a34cf8c6-db39-44f9-bc14-a646e920819a",
   "metadata": {},
   "source": [
    "# 20x20"
   ]
  },
  {
   "cell_type": "code",
   "execution_count": 11,
   "id": "ff6c821e-f947-4268-9b61-d14c7974c8ee",
   "metadata": {},
   "outputs": [
    {
     "name": "stdout",
     "output_type": "stream",
     "text": [
      "Inicial: Individual:\n",
      "[[1, 1, 0, 0, 0, 0, 0, 0, 0, 0, 0, 0, 0, 0, 0, 0, 0, 0, 0, 0], [1, 1, 1, 0, 0, 0, 0, 0, 0, 0, 0, 0, 0, 0, 0, 0, 0, 0, 0, 0], [0, 1, 1, 1, 0, 0, 0, 0, 0, 0, 0, 0, 0, 0, 0, 0, 0, 0, 0, 0], [0, 0, 1, 1, 1, 0, 0, 0, 0, 0, 0, 0, 0, 0, 0, 0, 0, 0, 0, 0], [0, 0, 0, 1, 1, 1, 0, 0, 0, 0, 0, 0, 0, 0, 0, 0, 0, 0, 0, 0], [0, 0, 0, 0, 1, 1, 1, 0, 0, 0, 0, 0, 0, 0, 0, 0, 0, 0, 0, 0], [0, 0, 0, 0, 0, 1, 1, 1, 0, 0, 0, 0, 0, 0, 0, 0, 0, 0, 0, 0], [0, 0, 0, 0, 0, 0, 1, 1, 1, 0, 0, 0, 0, 0, 0, 0, 0, 0, 0, 0], [0, 0, 0, 0, 0, 0, 0, 1, 1, 1, 0, 0, 0, 0, 0, 0, 0, 0, 0, 0], [0, 0, 0, 0, 0, 0, 0, 0, 1, 1, 1, 0, 0, 0, 0, 0, 0, 0, 0, 0], [0, 0, 0, 0, 0, 0, 0, 0, 0, 1, 1, 1, 0, 0, 0, 0, 0, 0, 0, 0], [0, 0, 0, 0, 0, 0, 0, 0, 0, 0, 1, 1, 1, 0, 0, 0, 0, 0, 0, 0], [0, 0, 0, 0, 0, 0, 0, 0, 0, 0, 0, 1, 1, 1, 0, 0, 0, 0, 0, 0], [0, 0, 0, 0, 0, 0, 0, 0, 0, 0, 0, 0, 1, 1, 1, 0, 0, 0, 0, 0], [0, 0, 0, 0, 0, 0, 0, 0, 0, 0, 0, 0, 0, 1, 1, 1, 0, 0, 0, 0], [0, 0, 0, 0, 0, 0, 0, 0, 0, 0, 0, 0, 0, 0, 1, 1, 1, 0, 0, 0], [0, 0, 0, 0, 0, 0, 0, 0, 0, 0, 0, 0, 0, 0, 0, 1, 1, 1, 0, 0], [0, 0, 0, 0, 0, 0, 0, 0, 0, 0, 0, 0, 0, 0, 0, 0, 1, 1, 1, 0], [0, 0, 0, 0, 0, 0, 0, 0, 0, 0, 0, 0, 0, 0, 0, 0, 0, 1, 1, 1], [0, 0, 0, 0, 0, 0, 0, 0, 0, 0, 0, 0, 0, 0, 0, 0, 0, 0, 1, 1]]\n"
     ]
    }
   ],
   "source": [
    "initial_positions = [\n",
    "    [1, 1, 0, 0, 0, 0, 0, 0, 0, 0, 0, 0, 0, 0, 0, 0, 0, 0, 0, 0],\n",
    "    [1, 1, 1, 0, 0, 0, 0, 0, 0, 0, 0, 0, 0, 0, 0, 0, 0, 0, 0, 0],\n",
    "    [0, 1, 1, 1, 0, 0, 0, 0, 0, 0, 0, 0, 0, 0, 0, 0, 0, 0, 0, 0],\n",
    "    [0, 0, 1, 1, 1, 0, 0, 0, 0, 0, 0, 0, 0, 0, 0, 0, 0, 0, 0, 0],\n",
    "    [0, 0, 0, 1, 1, 1, 0, 0, 0, 0, 0, 0, 0, 0, 0, 0, 0, 0, 0, 0],\n",
    "    [0, 0, 0, 0, 1, 1, 1, 0, 0, 0, 0, 0, 0, 0, 0, 0, 0, 0, 0, 0],\n",
    "    [0, 0, 0, 0, 0, 1, 1, 1, 0, 0, 0, 0, 0, 0, 0, 0, 0, 0, 0, 0],\n",
    "    [0, 0, 0, 0, 0, 0, 1, 1, 1, 0, 0, 0, 0, 0, 0, 0, 0, 0, 0, 0],\n",
    "    [0, 0, 0, 0, 0, 0, 0, 1, 1, 1, 0, 0, 0, 0, 0, 0, 0, 0, 0, 0],\n",
    "    [0, 0, 0, 0, 0, 0, 0, 0, 1, 1, 1, 0, 0, 0, 0, 0, 0, 0, 0, 0],\n",
    "    [0, 0, 0, 0, 0, 0, 0, 0, 0, 1, 1, 1, 0, 0, 0, 0, 0, 0, 0, 0],\n",
    "    [0, 0, 0, 0, 0, 0, 0, 0, 0, 0, 1, 1, 1, 0, 0, 0, 0, 0, 0, 0],\n",
    "    [0, 0, 0, 0, 0, 0, 0, 0, 0, 0, 0, 1, 1, 1, 0, 0, 0, 0, 0, 0],\n",
    "    [0, 0, 0, 0, 0, 0, 0, 0, 0, 0, 0, 0, 1, 1, 1, 0, 0, 0, 0, 0],\n",
    "    [0, 0, 0, 0, 0, 0, 0, 0, 0, 0, 0, 0, 0, 1, 1, 1, 0, 0, 0, 0],\n",
    "    [0, 0, 0, 0, 0, 0, 0, 0, 0, 0, 0, 0, 0, 0, 1, 1, 1, 0, 0, 0],\n",
    "    [0, 0, 0, 0, 0, 0, 0, 0, 0, 0, 0, 0, 0, 0, 0, 1, 1, 1, 0, 0],\n",
    "    [0, 0, 0, 0, 0, 0, 0, 0, 0, 0, 0, 0, 0, 0, 0, 0, 1, 1, 1, 0],\n",
    "    [0, 0, 0, 0, 0, 0, 0, 0, 0, 0, 0, 0, 0, 0, 0, 0, 0, 1, 1, 1],\n",
    "    [0, 0, 0, 0, 0, 0, 0, 0, 0, 0, 0, 0, 0, 0, 0, 0, 0, 0, 1, 1]\n",
    "]\n",
    "min_matrix = [\n",
    "    [100, 80, 0, 0, 0, 0, 0, 0, 0, 0, 0, 0, 0, 0, 0, 0, 0, 0, 0, 0],\n",
    "    [80, 100, 80, 0, 0, 0, 0, 0, 0, 0, 0, 0, 0, 0, 0, 0, 0, 0, 0, 0],\n",
    "    [0, 80, 100, 80, 0, 0, 0, 0, 0, 0, 0, 0, 0, 0, 0, 0, 0, 0, 0, 0],\n",
    "    [0, 0, 80, 100, 80, 0, 0, 0, 0, 0, 0, 0, 0, 0, 0, 0, 0, 0, 0, 0],\n",
    "    [0, 0, 0, 80, 100, 80, 0, 0, 0, 0, 0, 0, 0, 0, 0, 0, 0, 0, 0, 0],\n",
    "    [0, 0, 0, 0, 80, 100, 80, 0, 0, 0, 0, 0, 0, 0, 0, 0, 0, 0, 0, 0],\n",
    "    [0, 0, 0, 0, 0, 80, 100, 80, 0, 0, 0, 0, 0, 0, 0, 0, 0, 0, 0, 0],\n",
    "    [0, 0, 0, 0, 0, 0, 80, 100, 80, 0, 0, 0, 0, 0, 0, 0, 0, 0, 0, 0],\n",
    "    [0, 0, 0, 0, 0, 0, 0, 80, 100, 80, 0, 0, 0, 0, 0, 0, 0, 0, 0, 0],\n",
    "    [0, 0, 0, 0, 0, 0, 0, 0, 80, 100, 80, 0, 0, 0, 0, 0, 0, 0, 0, 0],\n",
    "    [0, 0, 0, 0, 0, 0, 0, 0, 0, 80, 100, 80, 0, 0, 0, 0, 0, 0, 0, 0],\n",
    "    [0, 0, 0, 0, 0, 0, 0, 0, 0, 0, 80, 100, 80, 0, 0, 0, 0, 0, 0, 0],\n",
    "    [0, 0, 0, 0, 0, 0, 0, 0, 0, 0, 0, 80, 100, 80, 0, 0, 0, 0, 0, 0],\n",
    "    [0, 0, 0, 0, 0, 0, 0, 0, 0, 0, 0, 0, 80, 100, 80, 0, 0, 0, 0, 0],\n",
    "    [0, 0, 0, 0, 0, 0, 0, 0, 0, 0, 0, 0, 0, 80, 100, 80, 0, 0, 0, 0],\n",
    "    [0, 0, 0, 0, 0, 0, 0, 0, 0, 0, 0, 0, 0, 0, 80, 100, 80, 0, 0, 0],\n",
    "    [0, 0, 0, 0, 0, 0, 0, 0, 0, 0, 0, 0, 0, 0, 0, 80, 100, 80, 0, 0],\n",
    "    [0, 0, 0, 0, 0, 0, 0, 0, 0, 0, 0, 0, 0, 0, 0, 0, 80, 100, 80, 0],\n",
    "    [0, 0, 0, 0, 0, 0, 0, 0, 0, 0, 0, 0, 0, 0, 0, 0, 0, 80, 100, 80],\n",
    "    [0, 0, 0, 0, 0, 0, 0, 0, 0, 0, 0, 0, 0, 0, 0, 0, 0, 0, 80, 100]\n",
    "]\n",
    "max_matrix = [\n",
    "    [100, 80, 0, 0, 0, 0, 0, 0, 0, 0, 0, 0, 0, 0, 0, 0, 0, 0, 0, 0],\n",
    "    [80, 100, 80, 0, 0, 0, 0, 0, 0, 0, 0, 0, 0, 0, 0, 0, 0, 0, 0, 0],\n",
    "    [0, 80, 100, 80, 0, 0, 0, 0, 0, 0, 0, 0, 0, 0, 0, 0, 0, 0, 0, 0],\n",
    "    [0, 0, 80, 100, 80, 0, 0, 0, 0, 0, 0, 0, 0, 0, 0, 0, 0, 0, 0, 0],\n",
    "    [0, 0, 0, 80, 100, 80, 0, 0, 0, 0, 0, 0, 0, 0, 0, 0, 0, 0, 0, 0],\n",
    "    [0, 0, 0, 0, 80, 100, 80, 0, 0, 0, 0, 0, 0, 0, 0, 0, 0, 0, 0, 0],\n",
    "    [0, 0, 0, 0, 0, 80, 100, 80, 0, 0, 0, 0, 0, 0, 0, 0, 0, 0, 0, 0],\n",
    "    [0, 0, 0, 0, 0, 0, 80, 100, 80, 0, 0, 0, 0, 0, 0, 0, 0, 0, 0, 0],\n",
    "    [0, 0, 0, 0, 0, 0, 0, 80, 100, 80, 0, 0, 0, 0, 0, 0, 0, 0, 0, 0],\n",
    "    [0, 0, 0, 0, 0, 0, 0, 0, 80, 100, 80, 0, 0, 0, 0, 0, 0, 0, 0, 0],\n",
    "    [0, 0, 0, 0, 0, 0, 0, 0, 0, 80, 100, 80, 0, 0, 0, 0, 0, 0, 0, 0],\n",
    "    [0, 0, 0, 0, 0, 0, 0, 0, 0, 0, 80, 100, 80, 0, 0, 0, 0, 0, 0, 0],\n",
    "    [0, 0, 0, 0, 0, 0, 0, 0, 0, 0, 0, 80, 100, 80, 0, 0, 0, 0, 0, 0],\n",
    "    [0, 0, 0, 0, 0, 0, 0, 0, 0, 0, 0, 0, 80, 100, 80, 0, 0, 0, 0, 0],\n",
    "    [0, 0, 0, 0, 0, 0, 0, 0, 0, 0, 0, 0, 0, 80, 100, 80, 0, 0, 0, 0],\n",
    "    [0, 0, 0, 0, 0, 0, 0, 0, 0, 0, 0, 0, 0, 0, 80, 100, 80, 0, 0, 0],\n",
    "    [0, 0, 0, 0, 0, 0, 0, 0, 0, 0, 0, 0, 0, 0, 0, 80, 100, 80, 0, 0],\n",
    "    [0, 0, 0, 0, 0, 0, 0, 0, 0, 0, 0, 0, 0, 0, 0, 0, 80, 100, 80, 0],\n",
    "    [0, 0, 0, 0, 0, 0, 0, 0, 0, 0, 0, 0, 0, 0, 0, 0, 0, 80, 100, 80],\n",
    "    [0, 0, 0, 0, 0, 0, 0, 0, 0, 0, 0, 0, 0, 0, 0, 0, 0, 0, 80, 100]\n",
    "]\n",
    "b = [\n",
    "    100, 100, 100, 100, 100, 100, 100, 100, 100, 100,\n",
    "    100, 100, 100, 100, 100, 100, 100, 100, 100, 100\n",
    "]\n",
    "\n",
    "print(\"Inicial:\", Individual(initial_positions, min_matrix, max_matrix, b))"
   ]
  },
  {
   "cell_type": "code",
   "execution_count": 12,
   "id": "bcf0944a-7591-4c82-a214-e61a1926c223",
   "metadata": {},
   "outputs": [],
   "source": [
    "tester = [\n",
    "    [100, 80, 0, 0, 0, 0, 0, 0, 0, 0, 0, 0, 0, 0, 0, 0, 0, 0, 0, 0],\n",
    "    [80, 100, 80, 0, 0, 0, 0, 0, 0, 0, 0, 0, 0, 0, 0, 0, 0, 0, 0, 0],\n",
    "    [0, 80, 100, 80, 0, 0, 0, 0, 0, 0, 0, 0, 0, 0, 0, 0, 0, 0, 0, 0],\n",
    "    [0, 0, 80, 100, 80, 0, 0, 0, 0, 0, 0, 0, 0, 0, 0, 0, 0, 0, 0, 0],\n",
    "    [0, 0, 0, 80, 100, 80, 0, 0, 0, 0, 0, 0, 0, 0, 0, 0, 0, 0, 0, 0],\n",
    "    [0, 0, 0, 0, 80, 100, 80, 0, 0, 0, 0, 0, 0, 0, 0, 0, 0, 0, 0, 0],\n",
    "    [0, 0, 0, 0, 0, 80, 100, 80, 0, 0, 0, 0, 0, 0, 0, 0, 0, 0, 0, 0],\n",
    "    [0, 0, 0, 0, 0, 0, 80, 100, 80, 0, 0, 0, 0, 0, 0, 0, 0, 0, 0, 0],\n",
    "    [0, 0, 0, 0, 0, 0, 0, 80, 100, 80, 0, 0, 0, 0, 0, 0, 0, 0, 0, 0],\n",
    "    [0, 0, 0, 0, 0, 0, 0, 0, 80, 100, 80, 0, 0, 0, 0, 0, 0, 0, 0, 0],\n",
    "    [0, 0, 0, 0, 0, 0, 0, 0, 0, 80, 100, 80, 0, 0, 0, 0, 0, 0, 0, 0],\n",
    "    [0, 0, 0, 0, 0, 0, 0, 0, 0, 0, 80, 100, 80, 0, 0, 0, 0, 0, 0, 0],\n",
    "    [0, 0, 0, 0, 0, 0, 0, 0, 0, 0, 0, 80, 100, 80, 0, 0, 0, 0, 0, 0],\n",
    "    [0, 0, 0, 0, 0, 0, 0, 0, 0, 0, 0, 0, 80, 100, 80, 0, 0, 0, 0, 0],\n",
    "    [0, 0, 0, 0, 0, 0, 0, 0, 0, 0, 0, 0, 0, 80, 100, 80, 0, 0, 0, 0],\n",
    "    [0, 0, 0, 0, 0, 0, 0, 0, 0, 0, 0, 0, 0, 0, 80, 100, 80, 0, 0, 0],\n",
    "    [0, 0, 0, 0, 0, 0, 0, 0, 0, 0, 0, 0, 0, 0, 0, 80, 100, 80, 0, 0],\n",
    "    [0, 0, 0, 0, 0, 0, 0, 0, 0, 0, 0, 0, 0, 0, 0, 0, 80, 100, 80, 0],\n",
    "    [0, 0, 0, 0, 0, 0, 0, 0, 0, 0, 0, 0, 0, 0, 0, 0, 0, 80, 100, 80],\n",
    "    [0, 0, 0, 0, 0, 0, 0, 0, 0, 0, 0, 0, 0, 0, 0, 0, 0, 0, 80, 100]\n",
    "]"
   ]
  },
  {
   "cell_type": "code",
   "execution_count": 13,
   "id": "adca6111-0a3c-4a29-85e4-f389ff67155a",
   "metadata": {},
   "outputs": [
    {
     "name": "stdout",
     "output_type": "stream",
     "text": [
      "Solução:\n",
      "== 15.414860933081124\n",
      "== -18.018576166351405\n",
      "== 8.358359274858135\n",
      "== 8.820627072778738\n",
      "== -18.134143115831556\n",
      "== 15.097051822010707\n",
      "== 0.5128283383181724\n",
      "== -14.488087244908423\n",
      "== 18.847280717817355\n",
      "== -7.821013652363265\n",
      "== -7.821013652363274\n",
      "== 18.84728071781736\n",
      "== -14.488087244908424\n",
      "== 0.5128283383181724\n",
      "== 15.09705182201071\n",
      "== -18.13414311583156\n",
      "== 8.820627072778743\n",
      "== 8.358359274858131\n",
      "== -18.018576166351405\n",
      "== 15.414860933081124\n",
      "Fitness inicial: 3.983656544271743\n",
      "Melhor indivíduo encontrado: Individual:\n",
      "[[1, 1, 1, 1, 1, 1, 0, 1, 1, 1, 1, 0, 1, 0, 0, 0, 1, 1, 0, 1], [1, 1, 1, 1, 0, 1, 0, 1, 1, 0, 0, 1, 0, 0, 1, 0, 0, 0, 0, 0], [1, 1, 1, 1, 0, 0, 1, 1, 1, 0, 1, 0, 1, 0, 0, 0, 1, 0, 0, 0], [1, 1, 1, 1, 1, 0, 1, 0, 1, 0, 1, 1, 0, 0, 0, 0, 1, 0, 0, 0], [1, 0, 0, 1, 1, 1, 1, 1, 0, 0, 1, 0, 0, 1, 1, 1, 1, 1, 0, 0], [1, 1, 0, 0, 1, 1, 1, 0, 1, 0, 1, 0, 0, 0, 0, 0, 0, 0, 0, 1], [0, 0, 1, 1, 1, 1, 1, 0, 1, 0, 1, 0, 1, 1, 1, 1, 0, 0, 1, 1], [1, 1, 1, 0, 1, 0, 0, 1, 1, 1, 1, 1, 0, 1, 1, 1, 1, 0, 0, 1], [1, 1, 1, 1, 0, 1, 1, 1, 1, 1, 0, 0, 1, 0, 1, 0, 0, 0, 1, 0], [1, 0, 0, 0, 0, 0, 0, 1, 1, 1, 1, 0, 1, 1, 0, 0, 1, 1, 1, 0], [1, 0, 1, 1, 1, 1, 1, 1, 0, 1, 1, 1, 0, 0, 1, 0, 1, 1, 1, 1], [0, 1, 0, 1, 0, 0, 0, 1, 0, 0, 1, 1, 1, 0, 0, 1, 0, 0, 0, 0], [1, 0, 1, 0, 0, 0, 1, 0, 1, 1, 0, 1, 1, 1, 1, 1, 1, 0, 0, 0], [0, 0, 0, 0, 1, 0, 1, 1, 0, 1, 0, 0, 1, 1, 1, 1, 0, 1, 0, 1], [0, 1, 0, 0, 1, 0, 1, 1, 1, 0, 1, 0, 1, 1, 1, 1, 0, 0, 0, 1], [0, 0, 0, 0, 1, 0, 1, 1, 0, 0, 0, 1, 1, 1, 1, 1, 1, 0, 0, 0], [1, 0, 1, 1, 1, 0, 0, 1, 0, 1, 1, 0, 1, 0, 0, 1, 1, 1, 1, 1], [1, 0, 0, 0, 1, 0, 0, 0, 0, 1, 1, 0, 0, 1, 0, 0, 1, 1, 1, 1], [0, 0, 0, 0, 0, 0, 1, 0, 1, 1, 1, 0, 0, 0, 0, 0, 1, 1, 1, 1], [1, 0, 0, 0, 0, 1, 1, 1, 0, 0, 1, 0, 0, 1, 1, 0, 1, 1, 1, 1]]\n",
      "Fitness Final: 117.01022133236292\n"
     ]
    }
   ],
   "source": [
    "try:\n",
    "    A = np.array(tester)\n",
    "    b_np = np.array(b)\n",
    "    solution = np.linalg.solve(A, b_np)\n",
    "    print(\"Solução:\")\n",
    "    for s in solution:\n",
    "        print(f\"== {s}\")\n",
    "except np.linalg.LinAlgError as e:\n",
    "    print(\"Erro ao resolver:\", e)\n",
    "\n",
    "ind_initial = Individual(initial_positions, min_matrix, max_matrix, b)\n",
    "print(\"Fitness inicial:\", ind_initial.fitness())\n",
    "\n",
    "best, history_simple = run_ag(initial_positions, min_matrix, max_matrix, b)\n",
    "print(\"Melhor indivíduo encontrado:\", best)\n",
    "print(\"Fitness Final:\", best.fitness())"
   ]
  },
  {
   "cell_type": "code",
   "execution_count": 14,
   "id": "93ba902a-9e62-4a1f-9186-4611c7e4ce31",
   "metadata": {},
   "outputs": [
    {
     "data": {
      "image/png": "[encoded data removed]",
      "text/plain": [
       "<Figure size 720x432 with 1 Axes>"
      ]
     },
     "metadata": {
      "needs_background": "light"
     },
     "output_type": "display_data"
    }
   ],
   "source": [
    "plt.figure(figsize=(10, 6))\n",
    "plt.plot(\n",
    "    range(len(history_simple)), \n",
    "    history_simple, \n",
    "    'b-', \n",
    "    label='AG Padrão'\n",
    ")\n",
    "plt.title('Evolução do Fitness (20x20)')\n",
    "plt.xlabel('Geração')\n",
    "plt.ylabel('Melhor Fitness')\n",
    "plt.gca().xaxis.set_major_locator(MaxNLocator(integer=True))\n",
    "plt.legend()\n",
    "plt.grid(True)\n",
    "plt.show()"
   ]
  },
  {
   "cell_type": "code",
   "execution_count": 15,
   "id": "d4b9d02b-a4de-475f-9a1b-4f016339df81",
   "metadata": {},
   "outputs": [
    {
     "name": "stdout",
     "output_type": "stream",
     "text": [
      "Solução:\n",
      "== 0.6901774123755954\n",
      "== 0.3872782345305059\n",
      "== 0.07572479446127253\n",
      "== 0.7680657723929034\n",
      "== 0.21419299004759837\n",
      "== 0.21419299004759865\n",
      "== 0.7680657723929033\n",
      "== 0.07572479446127209\n",
      "== 0.3872782345305065\n",
      "== 0.6901774123755947\n",
      "== 0.690177412375595\n",
      "== 0.38727823453050614\n",
      "== 0.07572479446127237\n",
      "== 0.7680657723929034\n",
      "== 0.21419299004759845\n",
      "== 0.21419299004759842\n",
      "== 0.7680657723929035\n",
      "== 0.07572479446127225\n",
      "== 0.3872782345305062\n",
      "== 0.690177412375595\n",
      "Fitness Inicial: 117.07193515704155\n",
      "Melhor indivíduo com estratégia de ilhas:\n",
      "Individual:\n",
      "[[1, 1, 1, 1, 0, 1, 0, 0, 1, 1, 1, 0, 1, 0, 1, 0, 0, 1, 0, 0], [1, 1, 1, 0, 1, 1, 1, 0, 1, 1, 1, 1, 0, 0, 1, 0, 1, 1, 1, 1], [1, 1, 1, 1, 0, 1, 0, 1, 1, 0, 1, 1, 0, 0, 1, 1, 1, 1, 0, 1], [1, 0, 1, 1, 1, 0, 0, 1, 0, 0, 0, 0, 1, 0, 1, 1, 0, 1, 1, 1], [0, 1, 0, 1, 1, 1, 0, 1, 0, 0, 1, 0, 0, 0, 0, 1, 0, 1, 0, 1], [1, 1, 1, 0, 1, 1, 1, 0, 0, 0, 0, 1, 0, 1, 1, 0, 1, 1, 1, 1], [0, 1, 0, 0, 0, 1, 1, 1, 1, 1, 1, 1, 0, 0, 0, 0, 0, 0, 0, 1], [0, 0, 1, 1, 1, 0, 1, 1, 1, 1, 0, 0, 0, 1, 0, 1, 0, 0, 1, 1], [1, 1, 1, 0, 0, 0, 1, 1, 1, 1, 1, 0, 1, 0, 0, 1, 1, 1, 0, 0], [1, 1, 0, 0, 0, 0, 1, 1, 1, 1, 0, 1, 0, 0, 1, 1, 1, 0, 0, 1], [1, 1, 1, 0, 1, 0, 1, 0, 1, 0, 1, 1, 1, 0, 1, 1, 1, 1, 1, 1], [0, 1, 1, 0, 0, 1, 1, 0, 0, 1, 1, 1, 1, 0, 1, 1, 0, 0, 0, 0], [1, 0, 0, 1, 0, 0, 0, 0, 1, 0, 1, 1, 1, 1, 0, 0, 1, 0, 0, 1], [0, 0, 0, 0, 0, 1, 0, 1, 0, 0, 0, 0, 1, 1, 1, 0, 1, 0, 1, 0], [1, 1, 1, 1, 0, 1, 0, 0, 0, 1, 1, 1, 0, 1, 1, 1, 0, 0, 0, 0], [0, 0, 1, 1, 1, 0, 0, 1, 1, 1, 1, 1, 0, 0, 1, 1, 1, 1, 1, 0], [0, 1, 1, 0, 0, 1, 0, 0, 1, 1, 1, 0, 1, 1, 0, 1, 1, 1, 1, 1], [1, 1, 1, 1, 1, 1, 0, 0, 1, 0, 1, 0, 0, 0, 0, 1, 1, 1, 1, 1], [0, 1, 0, 1, 0, 1, 0, 1, 0, 0, 1, 0, 0, 1, 0, 1, 1, 1, 1, 1], [0, 1, 1, 1, 1, 1, 1, 1, 0, 1, 1, 0, 1, 0, 0, 0, 1, 1, 1, 1]]\n",
      "Fitness Final: 117.07193515704155\n"
     ]
    }
   ],
   "source": [
    "best_island, history_island = run_ag_island(\n",
    "    initial_positions,\n",
    "    min_matrix,\n",
    "    max_matrix,\n",
    "    b,\n",
    "    NUM_ISLAND,\n",
    "    MIGRATION_INT,\n",
    "    MIGRATION_SIZE,\n",
    ")\n",
    "try:\n",
    "    A = np.array(best_island._initialize_graph())\n",
    "    b_np = np.array(b)\n",
    "    solution = np.linalg.solve(A, b_np)\n",
    "    print(\"Solução:\")\n",
    "    for s in solution:\n",
    "        print(f\"== {s}\")\n",
    "except np.linalg.LinAlgError as e:\n",
    "    print(\"Erro ao resolver:\", e)\n",
    "print(\"Fitness Inicial:\", best_island.fitness())\n",
    "print(\"Melhor indivíduo com estratégia de ilhas:\")\n",
    "print(best_island)\n",
    "print(\"Fitness Final:\", best_island.fitness())"
   ]
  },
  {
   "cell_type": "code",
   "execution_count": 16,
   "id": "22071cdc-de42-4c67-8fd0-eb5db43261ee",
   "metadata": {},
   "outputs": [
    {
     "data": {
      "image/png": "[encoded data removed]",
      "text/plain": [
       "<Figure size 720x432 with 1 Axes>"
      ]
     },
     "metadata": {
      "needs_background": "light"
     },
     "output_type": "display_data"
    }
   ],
   "source": [
    "plt.figure(figsize=(10, 6))\n",
    "for idx, history in enumerate(history_island):\n",
    "    plt.plot(\n",
    "        range(len(history)),\n",
    "        history,\n",
    "        linestyle='--',\n",
    "        label=f'Ilha {idx + 1}'\n",
    "    )\n",
    "plt.title('Evolução do Fitness (20x20)')\n",
    "plt.xlabel('Geração')\n",
    "plt.ylabel('Melhor Fitness por Ilha')\n",
    "plt.gca().xaxis.set_major_locator(MaxNLocator(integer=True))\n",
    "plt.legend()\n",
    "plt.grid(True)\n",
    "plt.show()"
   ]
  },
  {
   "cell_type": "markdown",
   "id": "67cd190c-d983-4fb1-8a29-936ef0cee258",
   "metadata": {},
   "source": [
    "# 20x20 Não maximizada"
   ]
  },
  {
   "cell_type": "code",
   "execution_count": 17,
   "id": "84bd72b4-2784-410d-8b5e-6ae1a330f65c",
   "metadata": {},
   "outputs": [
    {
     "name": "stdout",
     "output_type": "stream",
     "text": [
      "Inicial: Individual:\n",
      "[[1, 1, 0, 0, 0, 0, 0, 0, 0, 0, 0, 0, 0, 0, 0, 0, 0, 0, 0, 0], [1, 1, 1, 0, 0, 0, 0, 0, 0, 0, 0, 0, 0, 0, 0, 0, 0, 0, 0, 0], [0, 1, 1, 1, 0, 0, 0, 0, 0, 0, 0, 0, 0, 0, 0, 0, 0, 0, 0, 0], [0, 0, 1, 1, 1, 0, 0, 0, 0, 0, 0, 0, 0, 0, 0, 0, 0, 0, 0, 0], [0, 0, 0, 1, 1, 1, 0, 0, 0, 0, 0, 0, 0, 0, 0, 0, 0, 0, 0, 0], [0, 0, 0, 0, 1, 1, 1, 0, 0, 0, 0, 0, 0, 0, 0, 0, 0, 0, 0, 0], [0, 0, 0, 0, 0, 1, 1, 1, 0, 0, 0, 0, 0, 0, 0, 0, 0, 0, 0, 0], [0, 0, 0, 0, 0, 0, 1, 1, 1, 0, 0, 0, 0, 0, 0, 0, 0, 0, 0, 0], [0, 0, 0, 0, 0, 0, 0, 1, 1, 1, 0, 0, 0, 0, 0, 0, 0, 0, 0, 0], [0, 0, 0, 0, 0, 0, 0, 0, 1, 1, 1, 0, 0, 0, 0, 0, 0, 0, 0, 0], [0, 0, 0, 0, 0, 0, 0, 0, 0, 1, 1, 1, 0, 0, 0, 0, 0, 0, 0, 0], [0, 0, 0, 0, 0, 0, 0, 0, 0, 0, 1, 1, 1, 0, 0, 0, 0, 0, 0, 0], [0, 0, 0, 0, 0, 0, 0, 0, 0, 0, 0, 1, 1, 1, 0, 0, 0, 0, 0, 0], [0, 0, 0, 0, 0, 0, 0, 0, 0, 0, 0, 0, 1, 1, 1, 0, 0, 0, 0, 0], [0, 0, 0, 0, 0, 0, 0, 0, 0, 0, 0, 0, 0, 1, 1, 1, 0, 0, 0, 0], [0, 0, 0, 0, 0, 0, 0, 0, 0, 0, 0, 0, 0, 0, 1, 1, 1, 0, 0, 0], [0, 0, 0, 0, 0, 0, 0, 0, 0, 0, 0, 0, 0, 0, 0, 1, 1, 1, 0, 0], [0, 0, 0, 0, 0, 0, 0, 0, 0, 0, 0, 0, 0, 0, 0, 0, 1, 1, 1, 0], [0, 0, 0, 0, 0, 0, 0, 0, 0, 0, 0, 0, 0, 0, 0, 0, 0, 1, 1, 1], [0, 0, 0, 0, 0, 0, 0, 0, 0, 0, 0, 0, 0, 0, 0, 0, 0, 0, 1, 1]]\n"
     ]
    }
   ],
   "source": [
    "initial_positions = [\n",
    "    [1, 1, 0, 0, 0, 0, 0, 0, 0, 0, 0, 0, 0, 0, 0, 0, 0, 0, 0, 0],\n",
    "    [1, 1, 1, 0, 0, 0, 0, 0, 0, 0, 0, 0, 0, 0, 0, 0, 0, 0, 0, 0],\n",
    "    [0, 1, 1, 1, 0, 0, 0, 0, 0, 0, 0, 0, 0, 0, 0, 0, 0, 0, 0, 0],\n",
    "    [0, 0, 1, 1, 1, 0, 0, 0, 0, 0, 0, 0, 0, 0, 0, 0, 0, 0, 0, 0],\n",
    "    [0, 0, 0, 1, 1, 1, 0, 0, 0, 0, 0, 0, 0, 0, 0, 0, 0, 0, 0, 0],\n",
    "    [0, 0, 0, 0, 1, 1, 1, 0, 0, 0, 0, 0, 0, 0, 0, 0, 0, 0, 0, 0],\n",
    "    [0, 0, 0, 0, 0, 1, 1, 1, 0, 0, 0, 0, 0, 0, 0, 0, 0, 0, 0, 0],\n",
    "    [0, 0, 0, 0, 0, 0, 1, 1, 1, 0, 0, 0, 0, 0, 0, 0, 0, 0, 0, 0],\n",
    "    [0, 0, 0, 0, 0, 0, 0, 1, 1, 1, 0, 0, 0, 0, 0, 0, 0, 0, 0, 0],\n",
    "    [0, 0, 0, 0, 0, 0, 0, 0, 1, 1, 1, 0, 0, 0, 0, 0, 0, 0, 0, 0],\n",
    "    [0, 0, 0, 0, 0, 0, 0, 0, 0, 1, 1, 1, 0, 0, 0, 0, 0, 0, 0, 0],\n",
    "    [0, 0, 0, 0, 0, 0, 0, 0, 0, 0, 1, 1, 1, 0, 0, 0, 0, 0, 0, 0],\n",
    "    [0, 0, 0, 0, 0, 0, 0, 0, 0, 0, 0, 1, 1, 1, 0, 0, 0, 0, 0, 0],\n",
    "    [0, 0, 0, 0, 0, 0, 0, 0, 0, 0, 0, 0, 1, 1, 1, 0, 0, 0, 0, 0],\n",
    "    [0, 0, 0, 0, 0, 0, 0, 0, 0, 0, 0, 0, 0, 1, 1, 1, 0, 0, 0, 0],\n",
    "    [0, 0, 0, 0, 0, 0, 0, 0, 0, 0, 0, 0, 0, 0, 1, 1, 1, 0, 0, 0],\n",
    "    [0, 0, 0, 0, 0, 0, 0, 0, 0, 0, 0, 0, 0, 0, 0, 1, 1, 1, 0, 0],\n",
    "    [0, 0, 0, 0, 0, 0, 0, 0, 0, 0, 0, 0, 0, 0, 0, 0, 1, 1, 1, 0],\n",
    "    [0, 0, 0, 0, 0, 0, 0, 0, 0, 0, 0, 0, 0, 0, 0, 0, 0, 1, 1, 1],\n",
    "    [0, 0, 0, 0, 0, 0, 0, 0, 0, 0, 0, 0, 0, 0, 0, 0, 0, 0, 1, 1]\n",
    "]\n",
    "min_matrix = [\n",
    "    [99, 79, 0, 0, 0, 0, 0, 0, 0, 0, 0, 0, 0, 0, 0, 0, 0, 0, 0, 0],\n",
    "    [79, 99, 79, 0, 0, 0, 0, 0, 0, 0, 0, 0, 0, 0, 0, 0, 0, 0, 0, 0],\n",
    "    [0, 79, 99, 79, 0, 0, 0, 0, 0, 0, 0, 0, 0, 0, 0, 0, 0, 0, 0, 0],\n",
    "    [0, 0, 79, 99, 79, 0, 0, 0, 0, 0, 0, 0, 0, 0, 0, 0, 0, 0, 0, 0],\n",
    "    [0, 0, 0, 79, 99, 79, 0, 0, 0, 0, 0, 0, 0, 0, 0, 0, 0, 0, 0, 0],\n",
    "    [0, 0, 0, 0, 79, 99, 79, 0, 0, 0, 0, 0, 0, 0, 0, 0, 0, 0, 0, 0],\n",
    "    [0, 0, 0, 0, 0, 79, 99, 79, 0, 0, 0, 0, 0, 0, 0, 0, 0, 0, 0, 0],\n",
    "    [0, 0, 0, 0, 0, 0, 79, 99, 79, 0, 0, 0, 0, 0, 0, 0, 0, 0, 0, 0],\n",
    "    [0, 0, 0, 0, 0, 0, 0, 79, 99, 79, 0, 0, 0, 0, 0, 0, 0, 0, 0, 0],\n",
    "    [0, 0, 0, 0, 0, 0, 0, 0, 79, 99, 79, 0, 0, 0, 0, 0, 0, 0, 0, 0],\n",
    "    [0, 0, 0, 0, 0, 0, 0, 0, 0, 79, 99, 79, 0, 0, 0, 0, 0, 0, 0, 0],\n",
    "    [0, 0, 0, 0, 0, 0, 0, 0, 0, 0, 79, 99, 79, 0, 0, 0, 0, 0, 0, 0],\n",
    "    [0, 0, 0, 0, 0, 0, 0, 0, 0, 0, 0, 79, 99, 79, 0, 0, 0, 0, 0, 0],\n",
    "    [0, 0, 0, 0, 0, 0, 0, 0, 0, 0, 0, 0, 79, 99, 79, 0, 0, 0, 0, 0],\n",
    "    [0, 0, 0, 0, 0, 0, 0, 0, 0, 0, 0, 0, 0, 79, 99, 79, 0, 0, 0, 0],\n",
    "    [0, 0, 0, 0, 0, 0, 0, 0, 0, 0, 0, 0, 0, 0, 79, 99, 79, 0, 0, 0],\n",
    "    [0, 0, 0, 0, 0, 0, 0, 0, 0, 0, 0, 0, 0, 0, 0, 79, 99, 79, 0, 0],\n",
    "    [0, 0, 0, 0, 0, 0, 0, 0, 0, 0, 0, 0, 0, 0, 0, 0, 79, 99, 79, 0],\n",
    "    [0, 0, 0, 0, 0, 0, 0, 0, 0, 0, 0, 0, 0, 0, 0, 0, 0, 79, 99, 79],\n",
    "    [0, 0, 0, 0, 0, 0, 0, 0, 0, 0, 0, 0, 0, 0, 0, 0, 0, 0, 79, 99]\n",
    "]\n",
    "max_matrix = [\n",
    "    [100, 80, 0, 0, 0, 0, 0, 0, 0, 0, 0, 0, 0, 0, 0, 0, 0, 0, 0, 0],\n",
    "    [80, 100, 80, 0, 0, 0, 0, 0, 0, 0, 0, 0, 0, 0, 0, 0, 0, 0, 0, 0],\n",
    "    [0, 80, 100, 80, 0, 0, 0, 0, 0, 0, 0, 0, 0, 0, 0, 0, 0, 0, 0, 0],\n",
    "    [0, 0, 80, 100, 80, 0, 0, 0, 0, 0, 0, 0, 0, 0, 0, 0, 0, 0, 0, 0],\n",
    "    [0, 0, 0, 80, 100, 80, 0, 0, 0, 0, 0, 0, 0, 0, 0, 0, 0, 0, 0, 0],\n",
    "    [0, 0, 0, 0, 80, 100, 80, 0, 0, 0, 0, 0, 0, 0, 0, 0, 0, 0, 0, 0],\n",
    "    [0, 0, 0, 0, 0, 80, 100, 80, 0, 0, 0, 0, 0, 0, 0, 0, 0, 0, 0, 0],\n",
    "    [0, 0, 0, 0, 0, 0, 80, 100, 80, 0, 0, 0, 0, 0, 0, 0, 0, 0, 0, 0],\n",
    "    [0, 0, 0, 0, 0, 0, 0, 80, 100, 80, 0, 0, 0, 0, 0, 0, 0, 0, 0, 0],\n",
    "    [0, 0, 0, 0, 0, 0, 0, 0, 80, 100, 80, 0, 0, 0, 0, 0, 0, 0, 0, 0],\n",
    "    [0, 0, 0, 0, 0, 0, 0, 0, 0, 80, 100, 80, 0, 0, 0, 0, 0, 0, 0, 0],\n",
    "    [0, 0, 0, 0, 0, 0, 0, 0, 0, 0, 80, 100, 80, 0, 0, 0, 0, 0, 0, 0],\n",
    "    [0, 0, 0, 0, 0, 0, 0, 0, 0, 0, 0, 80, 100, 80, 0, 0, 0, 0, 0, 0],\n",
    "    [0, 0, 0, 0, 0, 0, 0, 0, 0, 0, 0, 0, 80, 100, 80, 0, 0, 0, 0, 0],\n",
    "    [0, 0, 0, 0, 0, 0, 0, 0, 0, 0, 0, 0, 0, 80, 100, 80, 0, 0, 0, 0],\n",
    "    [0, 0, 0, 0, 0, 0, 0, 0, 0, 0, 0, 0, 0, 0, 80, 100, 80, 0, 0, 0],\n",
    "    [0, 0, 0, 0, 0, 0, 0, 0, 0, 0, 0, 0, 0, 0, 0, 80, 100, 80, 0, 0],\n",
    "    [0, 0, 0, 0, 0, 0, 0, 0, 0, 0, 0, 0, 0, 0, 0, 0, 80, 100, 80, 0],\n",
    "    [0, 0, 0, 0, 0, 0, 0, 0, 0, 0, 0, 0, 0, 0, 0, 0, 0, 80, 100, 80],\n",
    "    [0, 0, 0, 0, 0, 0, 0, 0, 0, 0, 0, 0, 0, 0, 0, 0, 0, 0, 80, 100]\n",
    "]\n",
    "b = [\n",
    "    100, 100, 100, 100, 100, 100, 100, 100, 100, 100,\n",
    "    100, 100, 100, 100, 100, 100, 100, 100, 100, 100\n",
    "]\n",
    "\n",
    "print(\"Inicial:\", Individual(initial_positions, min_matrix, max_matrix, b))"
   ]
  },
  {
   "cell_type": "code",
   "execution_count": 18,
   "id": "80ea7013-9303-4ab1-b75c-6d7221b7996b",
   "metadata": {},
   "outputs": [],
   "source": [
    "tester = [\n",
    "    [80, 60, 0, 0, 0, 0, 0, 0, 0, 0, 0, 0, 0, 0, 0, 0, 0, 0, 0, 0],\n",
    "    [60, 80, 60, 0, 0, 0, 0, 0, 0, 0, 0, 0, 0, 0, 0, 0, 0, 0, 0, 0],\n",
    "    [0, 60, 80, 60, 0, 0, 0, 0, 0, 0, 0, 0, 0, 0, 0, 0, 0, 0, 0, 0],\n",
    "    [0, 0, 60, 80, 60, 0, 0, 0, 0, 0, 0, 0, 0, 0, 0, 0, 0, 0, 0, 0],\n",
    "    [0, 0, 0, 60, 80, 60, 0, 0, 0, 0, 0, 0, 0, 0, 0, 0, 0, 0, 0, 0],\n",
    "    [0, 0, 0, 0, 60, 80, 60, 0, 0, 0, 0, 0, 0, 0, 0, 0, 0, 0, 0, 0],\n",
    "    [0, 0, 0, 0, 0, 60, 80, 60, 0, 0, 0, 0, 0, 0, 0, 0, 0, 0, 0, 0],\n",
    "    [0, 0, 0, 0, 0, 0, 60, 80, 60, 0, 0, 0, 0, 0, 0, 0, 0, 0, 0, 0],\n",
    "    [0, 0, 0, 0, 0, 0, 0, 60, 80, 60, 0, 0, 0, 0, 0, 0, 0, 0, 0, 0],\n",
    "    [0, 0, 0, 0, 0, 0, 0, 0, 60, 80, 60, 0, 0, 0, 0, 0, 0, 0, 0, 0],\n",
    "    [0, 0, 0, 0, 0, 0, 0, 0, 0, 60, 80, 60, 0, 0, 0, 0, 0, 0, 0, 0],\n",
    "    [0, 0, 0, 0, 0, 0, 0, 0, 0, 0, 60, 80, 60, 0, 0, 0, 0, 0, 0, 0],\n",
    "    [0, 0, 0, 0, 0, 0, 0, 0, 0, 0, 0, 60, 80, 60, 0, 0, 0, 0, 0, 0],\n",
    "    [0, 0, 0, 0, 0, 0, 0, 0, 0, 0, 0, 0, 60, 80, 60, 0, 0, 0, 0, 0],\n",
    "    [0, 0, 0, 0, 0, 0, 0, 0, 0, 0, 0, 0, 0, 60, 80, 60, 0, 0, 0, 0],\n",
    "    [0, 0, 0, 0, 0, 0, 0, 0, 0, 0, 0, 0, 0, 0, 60, 80, 60, 0, 0, 0],\n",
    "    [0, 0, 0, 0, 0, 0, 0, 0, 0, 0, 0, 0, 0, 0, 0, 60, 80, 60, 0, 0],\n",
    "    [0, 0, 0, 0, 0, 0, 0, 0, 0, 0, 0, 0, 0, 0, 0, 0, 60, 80, 60, 0],\n",
    "    [0, 0, 0, 0, 0, 0, 0, 0, 0, 0, 0, 0, 0, 0, 0, 0, 0, 60, 80, 60],\n",
    "    [0, 0, 0, 0, 0, 0, 0, 0, 0, 0, 0, 0, 0, 0, 0, 0, 0, 0, 60, 80]\n",
    "]"
   ]
  },
  {
   "cell_type": "code",
   "execution_count": 19,
   "id": "769adf8c-d3aa-4aab-8348-ec9499941e7a",
   "metadata": {},
   "outputs": [],
   "source": [
    "POP_SIZE = 10\n",
    "GEN = 1000\n",
    "MU_TAX_1 = 0.05\n",
    "\n",
    "NUM_ISLAND = 5\n",
    "MIGRATION_INT = 20\n",
    "MIGRATION_SIZE = 3\n",
    "\n",
    "TOURNAMENT_SIZE = 2"
   ]
  },
  {
   "cell_type": "code",
   "execution_count": 20,
   "id": "1acbb1ed-7c63-4e81-863c-9d3987844661",
   "metadata": {},
   "outputs": [
    {
     "name": "stdout",
     "output_type": "stream",
     "text": [
      "Solução:\n",
      "== 1.38567843854683\n",
      "== -0.1809045847291067\n",
      "== 0.5221943410919783\n",
      "== 1.1513121299398024\n",
      "== -0.39061051434504795\n",
      "== 1.0361685558535951\n",
      "== 0.6757191065402545\n",
      "== -0.2704606979072677\n",
      "== 1.3515618240027691\n",
      "== 0.135044932570242\n",
      "== 0.1350449325702416\n",
      "== 1.3515618240027691\n",
      "== -0.2704606979072672\n",
      "== 0.6757191065402537\n",
      "== 1.0361685558535956\n",
      "== -0.39061051434504784\n",
      "== 1.1513121299398015\n",
      "== 0.5221943410919792\n",
      "== -0.18090458472910717\n",
      "== 1.3856784385468304\n",
      "Fitness inicial: 3.983656544271743\n",
      "Melhor indivíduo encontrado: Individual:\n",
      "[[1, 1, 0, 1, 1, 1, 0, 1, 1, 0, 1, 0, 0, 1, 0, 0, 0, 1, 1, 1], [1, 1, 1, 1, 1, 1, 0, 0, 0, 1, 0, 0, 0, 0, 1, 1, 1, 0, 0, 1], [0, 1, 1, 1, 0, 0, 0, 1, 0, 1, 1, 0, 0, 0, 1, 1, 0, 1, 1, 0], [1, 1, 1, 1, 1, 1, 0, 1, 1, 0, 0, 0, 0, 0, 1, 1, 1, 0, 0, 0], [1, 1, 0, 1, 1, 1, 1, 1, 0, 0, 0, 1, 1, 0, 1, 0, 1, 0, 1, 1], [1, 1, 0, 1, 1, 1, 1, 1, 0, 1, 1, 0, 0, 0, 1, 1, 1, 1, 0, 0], [0, 0, 0, 0, 1, 1, 1, 1, 1, 0, 0, 1, 1, 0, 0, 0, 1, 0, 1, 1], [1, 0, 1, 1, 1, 1, 1, 1, 1, 0, 1, 0, 0, 0, 1, 0, 0, 1, 1, 0], [1, 0, 0, 1, 0, 0, 1, 1, 1, 1, 1, 1, 0, 1, 1, 0, 1, 1, 1, 1], [0, 1, 1, 0, 0, 1, 0, 0, 1, 1, 0, 0, 0, 1, 1, 1, 1, 0, 0, 1], [1, 0, 1, 0, 0, 1, 0, 1, 1, 0, 1, 1, 1, 0, 1, 1, 0, 0, 1, 0], [0, 0, 0, 0, 1, 0, 1, 0, 1, 0, 1, 1, 1, 0, 0, 1, 1, 1, 1, 1], [0, 0, 0, 0, 1, 0, 1, 0, 0, 0, 1, 1, 1, 1, 0, 1, 0, 1, 0, 0], [1, 0, 0, 0, 0, 0, 0, 0, 1, 1, 0, 0, 1, 1, 1, 1, 0, 1, 0, 0], [0, 1, 1, 1, 1, 1, 0, 1, 1, 1, 1, 0, 0, 1, 1, 1, 1, 0, 1, 0], [0, 1, 1, 1, 0, 1, 0, 0, 0, 1, 1, 1, 1, 1, 1, 1, 1, 0, 0, 1], [0, 1, 0, 1, 1, 1, 1, 0, 1, 1, 0, 1, 0, 0, 1, 1, 1, 1, 1, 0], [1, 0, 1, 0, 0, 1, 0, 1, 1, 0, 0, 1, 1, 1, 0, 0, 1, 1, 1, 1], [1, 0, 1, 0, 1, 0, 1, 1, 1, 0, 1, 1, 0, 0, 1, 0, 1, 1, 1, 1], [1, 1, 0, 0, 1, 0, 1, 0, 1, 1, 0, 1, 0, 0, 0, 1, 0, 1, 1, 1]]\n",
      "Fitness Final: 117.07193515704155\n"
     ]
    }
   ],
   "source": [
    "try:\n",
    "    A = np.array(tester)\n",
    "    b_np = np.array(b)\n",
    "    solution = np.linalg.solve(A, b_np)\n",
    "    print(\"Solução:\")\n",
    "    for s in solution:\n",
    "        print(f\"== {s}\")\n",
    "except np.linalg.LinAlgError as e:\n",
    "    print(\"Erro ao resolver:\", e)\n",
    "\n",
    "ind_initial = Individual(initial_positions, min_matrix, max_matrix, b)\n",
    "print(\"Fitness inicial:\", ind_initial.fitness())\n",
    "\n",
    "best, history_simple = run_ag(initial_positions, min_matrix, max_matrix, b)\n",
    "print(\"Melhor indivíduo encontrado:\", best)\n",
    "print(\"Fitness Final:\", best.fitness())"
   ]
  },
  {
   "cell_type": "code",
   "execution_count": 21,
   "id": "a0c3f448-07ae-434b-9118-606def02304f",
   "metadata": {},
   "outputs": [
    {
     "data": {
      "image/png": "[encoded data removed]",
      "text/plain": [
       "<Figure size 720x432 with 1 Axes>"
      ]
     },
     "metadata": {
      "needs_background": "light"
     },
     "output_type": "display_data"
    }
   ],
   "source": [
    "plt.figure(figsize=(10, 6))\n",
    "plt.plot(\n",
    "    range(len(history_simple)), \n",
    "    history_simple, \n",
    "    'b-', \n",
    "    label='AG Padrão'\n",
    ")\n",
    "plt.title('Evolução do Fitness (20x20) não maximizada')\n",
    "plt.xlabel('Geração')\n",
    "plt.ylabel('Melhor Fitness')\n",
    "plt.gca().xaxis.set_major_locator(MaxNLocator(integer=True))\n",
    "plt.legend()\n",
    "plt.grid(True)\n",
    "plt.show()"
   ]
  },
  {
   "cell_type": "code",
   "execution_count": null,
   "id": "f8c3f563-1a9d-40b1-82ce-95bf1622e857",
   "metadata": {},
   "outputs": [],
   "source": [
    "best_island, history_island = run_ag_island(\n",
    "    initial_positions,\n",
    "    min_matrix,\n",
    "    max_matrix,\n",
    "    b,\n",
    "    NUM_ISLAND,\n",
    "    MIGRATION_INT,\n",
    "    MIGRATION_SIZE,\n",
    ")\n",
    "try:\n",
    "    A = np.array(best_island._initialize_graph())\n",
    "    b_np = np.array(b)\n",
    "    solution = np.linalg.solve(A, b_np)\n",
    "    print(\"Solução:\")\n",
    "    for s in solution:\n",
    "        print(f\"== {s}\")\n",
    "except np.linalg.LinAlgError as e:\n",
    "    print(\"Erro ao resolver:\", e)\n",
    "print(\"Fitness Inicial:\", best_island.fitness())\n",
    "print(\"Melhor indivíduo com estratégia de ilhas:\")\n",
    "print(best_island)\n",
    "print(\"Fitness Final:\", best_island.fitness())"
   ]
  },
  {
   "cell_type": "code",
   "execution_count": null,
   "id": "d1954803-0ba9-4905-899e-661ed4c257a5",
   "metadata": {},
   "outputs": [],
   "source": [
    "plt.figure(figsize=(10, 6))\n",
    "for idx, history in enumerate(history_island):\n",
    "    plt.plot(\n",
    "        range(len(history)),\n",
    "        history,\n",
    "        linestyle='--',\n",
    "        label=f'Ilha {idx + 1}'\n",
    "    )\n",
    "plt.title('Evolução do Fitness (20x20) não maximizada')\n",
    "plt.xlabel('Geração')\n",
    "plt.ylabel('Melhor Fitness por Ilha')\n",
    "plt.gca().xaxis.set_major_locator(MaxNLocator(integer=True))\n",
    "plt.legend()\n",
    "plt.grid(True)\n",
    "plt.show()"
   ]
  }
 ],
 "metadata": {
  "kernelspec": {
   "display_name": "Python 3 (ipykernel)",
   "language": "python",
   "name": "python3"
  },
  "language_info": {
   "codemirror_mode": {
    "name": "ipython",
    "version": 3
   },
   "file_extension": ".py",
   "mimetype": "text/x-python",
   "name": "python",
   "nbconvert_exporter": "python",
   "pygments_lexer": "ipython3",
   "version": "3.7.9"
  }
 },
 "nbformat": 4,
 "nbformat_minor": 5
}
