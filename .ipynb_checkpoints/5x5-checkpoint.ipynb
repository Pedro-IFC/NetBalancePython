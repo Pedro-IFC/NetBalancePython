{
 "cells": [
  {
   "cell_type": "code",
   "execution_count": 1,
   "id": "f49a8298-b2cd-48e1-9c13-4317b8e0fa47",
   "metadata": {},
   "outputs": [],
   "source": [
    "import numpy as np\n",
    "import random\n",
    "import json\n",
    "import copy\n",
    "from typing import List, Tuple\n",
    "import matplotlib.pyplot as plt\n",
    "from matplotlib.ticker import MaxNLocator"
   ]
  },
  {
   "cell_type": "code",
   "execution_count": 2,
   "id": "9134ffd7-194f-4bea-9a3d-33c7c1782e12",
   "metadata": {},
   "outputs": [],
   "source": [
    "def eliminacao_gauss(A, b, max_iter):\n",
    "    n = len(A)\n",
    "    for i in range(n):\n",
    "        max_index = max(range(i, n), key=lambda k: abs(A[k][i]))\n",
    "        if A[max_index][i] == 0:\n",
    "            raise ValueError(f\"A matriz é singular, não é possível resolver o sistema para a linha {i}.\")\n",
    "        if max_index != i:\n",
    "            A[i], A[max_index] = A[max_index], A[i]\n",
    "            b[i], b[max_index] = b[max_index], b[i]\n",
    "        for k in range(i + 1, n):\n",
    "            fator = A[k][i] / A[i][i]\n",
    "            for j in range(i, n):\n",
    "                A[k][j] -= fator * A[i][j]\n",
    "            b[k] -= fator * b[i]\n",
    "    x = [0] * n\n",
    "    for i in range(n - 1, -1, -1):\n",
    "        soma = sum(A[i][j] * x[j] for j in range(i + 1, n))\n",
    "        x[i] = (b[i] - soma) / A[i][i]\n",
    "    for _ in range(max_iter):\n",
    "        r = [b[i] - sum(A[i][j] * x[j] for j in range(n)) for i in range(n)]\n",
    "        delta_x = [0] * n\n",
    "        for i in range(n - 1, -1, -1):\n",
    "            soma = sum(A[i][j] * delta_x[j] for j in range(i + 1, n))\n",
    "            delta_x[i] = (r[i] - soma) / A[i][i]\n",
    "        x = [x[i] + delta_x[i] for i in range(n)]\n",
    "    \n",
    "    return x"
   ]
  },
  {
   "cell_type": "code",
   "execution_count": 3,
   "id": "fe5c3163-9721-4190-83ce-271bc3a08344",
   "metadata": {},
   "outputs": [],
   "source": [
    "def metodo_jacobi(A, b, max_iter, tol=1e-6):\n",
    "    n = len(A)\n",
    "    x = [0] * n \n",
    "    x_novo = x[:]\n",
    "    for _ in range(max_iter):\n",
    "        for i in range(n):\n",
    "            soma = sum(A[i][j] * x[j] for j in range(n) if j != i)\n",
    "            x_novo[i] = (b[i] - soma) / A[i][i]\n",
    "        if max(abs(x_novo[i] - x[i]) for i in range(n)) < tol:\n",
    "            return x_novo\n",
    "        x = x_novo[:]\n",
    "    return x_novo"
   ]
  },
  {
   "cell_type": "code",
   "execution_count": 4,
   "id": "3828bc53-4d52-417e-887d-20cc5fef74d0",
   "metadata": {},
   "outputs": [],
   "source": [
    "def metodo_gauss_seidel(A, b, max_iter, tol=1e-6):\n",
    "    n = len(A)\n",
    "    x = [0] * n \n",
    "    for _ in range(max_iter):\n",
    "        x_old = x[:]\n",
    "        for i in range(n):\n",
    "            soma = sum(A[i][j] * x[j] for j in range(n) if j != i)\n",
    "            x[i] = (b[i] - soma) / A[i][i]\n",
    "        if max(abs(x[i] - x_old[i]) for i in range(n)) < tol:\n",
    "            return x\n",
    "    return x"
   ]
  },
  {
   "cell_type": "code",
   "execution_count": 5,
   "id": "3c14363b-0677-48be-a3df-eb8371094b67",
   "metadata": {},
   "outputs": [],
   "source": [
    "class Individual:\n",
    "    def __init__(self, initial_positions: List[List[float]], min_matrix: List[List[float]], \n",
    "                 max_matrix: List[List[float]], b_vector: List[float]):\n",
    "        self.initial_positions = initial_positions\n",
    "        self.min_matrix = min_matrix\n",
    "        self.max_matrix = max_matrix\n",
    "        self.b_vector = b_vector\n",
    "        self.n = len(initial_positions)\n",
    "        self.graph = self._initialize_graph()\n",
    "    \n",
    "    def _initialize_graph(self) -> List[List[float]]:\n",
    "        graph = [[0.0] * self.n for _ in range(self.n)]\n",
    "        for i in range(self.n):\n",
    "            for j in range(self.n):\n",
    "                if self.max_matrix[i][j] > 0:\n",
    "                    val = self.initial_positions[i][j] * random.uniform(\n",
    "                        self.min_matrix[i][j], self.max_matrix[i][j])\n",
    "                    graph[i][j] = val\n",
    "                    graph[j][i] = val\n",
    "        return graph\n",
    "\n",
    "    def fitness(self, tester: List[List[float]]) -> float:\n",
    "        n = len(self.initial_positions)\n",
    "        A = [[0.0] * n for _ in range(n)]\n",
    "        for i in range(n):\n",
    "            for j in range(n):\n",
    "                A[i][j] = self.initial_positions[i][j] * tester[i][j]\n",
    "        \n",
    "        try:\n",
    "            solution = eliminacao_gauss(A, self.b_vector.copy(), 5)\n",
    "            total_abs = sum(abs(x) for x in solution) \n",
    "            if total_abs == 0:\n",
    "                return 0.0\n",
    "            return 10.0 * n / total_abs\n",
    "        except ValueError:  # Capturar erro de matriz singular\n",
    "            return 0.0\n",
    "\n",
    "    def mutate(self, mutation_rate: float) -> 'Individual':\n",
    "        new_positions = copy.deepcopy(self.initial_positions)\n",
    "        for i in range(self.n):\n",
    "            for j in range(self.n):\n",
    "                if i != j and random.random() < mutation_rate:\n",
    "                    new_positions[i][j] = 1 - new_positions[i][j]\n",
    "                    new_positions[j][i] = new_positions[i][j]\n",
    "        return Individual(new_positions, self.min_matrix, self.max_matrix, self.b_vector)\n",
    "\n",
    "    def randomize(self) -> 'Individual':\n",
    "        new_positions = [[1 if i==j else 0 for j in range(self.n)] for i in range(self.n)]\n",
    "        for i in range(self.n):\n",
    "            for j in range(i+1, self.n):\n",
    "                if random.random() < 0.5:\n",
    "                    new_positions[i][j] = 1\n",
    "                    new_positions[j][i] = 1\n",
    "        return Individual(new_positions, self.min_matrix, self.max_matrix, self.b_vector)\n",
    "\n",
    "    def cross(self, other: 'Individual') -> 'Individual':\n",
    "        new_positions = copy.deepcopy(self.initial_positions)\n",
    "        for i in range(self.n):\n",
    "            for j in range(self.n):\n",
    "                if i != j and random.random() < 0.5:\n",
    "                    new_positions[i][j] = other.initial_positions[i][j]\n",
    "                    new_positions[j][i] = new_positions[i][j]\n",
    "        return Individual(new_positions, self.min_matrix, self.max_matrix, self.b_vector)\n",
    "\n",
    "    def copy(self) -> 'Individual':\n",
    "        return Individual(\n",
    "            copy.deepcopy(self.initial_positions), \n",
    "            self.min_matrix,\n",
    "            self.max_matrix,\n",
    "            copy.deepcopy(self.b_vector)\n",
    "        )\n",
    "\n",
    "    def get_graph(self) -> List[List[float]]:\n",
    "        return self.graph\n",
    "\n",
    "    def get_b(self) -> List[float]:\n",
    "        return self.b_vector\n",
    "\n",
    "    def __str__(self) -> str:\n",
    "        return f\"Individual:\\n{self.initial_positions}\""
   ]
  },
  {
   "cell_type": "code",
   "execution_count": 6,
   "id": "1fc66176-c996-46e3-802d-7be60cbc28ff",
   "metadata": {},
   "outputs": [],
   "source": [
    "def generate_tester(initial_positions: List[List[float]], min_matrix: List[List[float]], \n",
    "                    max_matrix: List[List[float]]) -> List[List[float]]:\n",
    "    n = len(initial_positions)\n",
    "    tester = [[0.0] * n for _ in range(n)]\n",
    "    for i in range(n):\n",
    "        for j in range(n):\n",
    "            if max_matrix[i][j] > 0:\n",
    "                val = random.uniform(min_matrix[i][j], max_matrix[i][j])\n",
    "                tester[i][j] = val\n",
    "                tester[j][i] = val\n",
    "    return tester"
   ]
  },
  {
   "cell_type": "code",
   "execution_count": 7,
   "id": "696976f9-996b-4823-a305-15ea7e8b7e44",
   "metadata": {},
   "outputs": [],
   "source": [
    "def select_parent_torneio(population: List[Individual], fitness: List[float], \n",
    "                          tournament_size: int) -> List[Individual]:\n",
    "    selected = []\n",
    "    for _ in range(2):\n",
    "        tournament = random.sample(list(zip(population, fitness)), tournament_size)\n",
    "        best = max(tournament, key=lambda x: x[1])[0]\n",
    "        selected.append(best)\n",
    "    return selected"
   ]
  },
  {
   "cell_type": "code",
   "execution_count": 8,
   "id": "c6af78e1-60a7-4028-9cae-562aa5b0c154",
   "metadata": {},
   "outputs": [],
   "source": [
    "def run_ag(initial_positions: List[List[float]], min_matrix: List[List[float]], \n",
    "           max_matrix: List[List[float]], b_vector: List[float]) -> Individual:\n",
    "    template = Individual(initial_positions, min_matrix, max_matrix, b_vector)\n",
    "    tester = generate_tester(initial_positions, min_matrix, max_matrix)\n",
    "    \n",
    "    population = [template.copy()]\n",
    "    for _ in range(1, POP_SIZE):\n",
    "        population.append(template.randomize())\n",
    "    \n",
    "    best_individual = None\n",
    "    best_fitness = float('-inf')\n",
    "    history = []\n",
    "    \n",
    "    for gen in range(GEN):\n",
    "        fitness_list = [ind.fitness(tester) for ind in population]\n",
    "        \n",
    "        # Melhor indivíduo da geração atual\n",
    "        current_best_idx = np.argmax(fitness_list)\n",
    "        current_best = population[current_best_idx]\n",
    "        current_fitness = fitness_list[current_best_idx]\n",
    "        \n",
    "        # Atualiza o melhor global se necessário\n",
    "        if current_fitness > best_fitness:\n",
    "            best_fitness = current_fitness\n",
    "            best_individual = current_best.copy()\n",
    "        \n",
    "        # Armazena o melhor fitness da geração atual\n",
    "        history.append(current_fitness)\n",
    "        \n",
    "        new_population = []\n",
    "        while len(new_population) < POP_SIZE:\n",
    "            parents = select_parent_torneio(population, fitness_list, 3)\n",
    "            child = parents[0].cross(parents[1])\n",
    "            child = child.mutate(MU_TAX)\n",
    "            new_population.append(child)\n",
    "        \n",
    "        population = new_population\n",
    "    \n",
    "    return best_individual, history"
   ]
  },
  {
   "cell_type": "code",
   "execution_count": 9,
   "id": "28ae17f1-40b7-4cf2-9264-ed3d9568103a",
   "metadata": {},
   "outputs": [],
   "source": [
    "def best_realocate(initial_positions, min_matrix, max_matrix, b):\n",
    "    return run_ag(initial_positions, min_matrix, max_matrix, b)"
   ]
  },
  {
   "cell_type": "code",
   "execution_count": 10,
   "id": "ef25a935-85d3-4342-bdba-a8da11ae5e2e",
   "metadata": {},
   "outputs": [],
   "source": [
    "def run_ag_island(initial_positions: List[List[float]], min_matrix: List[List[float]], \n",
    "                  max_matrix: List[List[float]], b_vector: List[float], \n",
    "                  num_islands: int, migration_interval: int, migration_size: int\n",
    "                 ) -> Tuple[Individual, List[List[float]]]:\n",
    "    template = Individual(initial_positions, min_matrix, max_matrix, b_vector)\n",
    "    tester = generate_tester(initial_positions, min_matrix, max_matrix)\n",
    "    \n",
    "    # Histórico agora será uma lista de listas, uma para cada ilha\n",
    "    history = [[] for _ in range(num_islands)]\n",
    "    islands = []\n",
    "\n",
    "    for _ in range(num_islands):\n",
    "        pop = [template.copy()]\n",
    "        for _ in range(1, POP_SIZE):\n",
    "            pop.append(template.randomize())\n",
    "        islands.append(pop)\n",
    "\n",
    "    best_global = None\n",
    "    best_global_fitness = float('-inf')\n",
    "\n",
    "    for gen in range(GEN):\n",
    "        for island_idx in range(num_islands):\n",
    "            pop = islands[island_idx]\n",
    "            fitness_list = [ind.fitness(tester) for ind in pop]\n",
    "\n",
    "            current_best_idx = np.argmax(fitness_list)\n",
    "            current_best = pop[current_best_idx]\n",
    "            current_fitness = fitness_list[current_best_idx]\n",
    "\n",
    "            if current_fitness > best_global_fitness:\n",
    "                best_global_fitness = current_fitness\n",
    "                best_global = current_best.copy()\n",
    "\n",
    "            # Salva o melhor fitness desta ilha na geração atual\n",
    "            history[island_idx].append(current_fitness)\n",
    "\n",
    "            new_pop = []\n",
    "            while len(new_pop) < POP_SIZE:\n",
    "                parents = select_parent_torneio(pop, fitness_list, 3)\n",
    "                child = parents[0].cross(parents[1])\n",
    "                child = child.mutate(MU_TAX)\n",
    "                new_pop.append(child)\n",
    "\n",
    "            islands[island_idx] = new_pop\n",
    "\n",
    "        # Realiza a migração entre ilhas\n",
    "        if gen % migration_interval == 0 and gen != 0 and num_islands > 1:\n",
    "            migrants = []\n",
    "            for island in islands:\n",
    "                island.sort(key=lambda ind: ind.fitness(tester), reverse=True)\n",
    "                migrants.append(island[:migration_size])\n",
    "            \n",
    "            for i in range(num_islands):\n",
    "                next_idx = (i + 1) % num_islands\n",
    "                islands[next_idx].sort(key=lambda ind: ind.fitness(tester))\n",
    "                for j in range(migration_size):\n",
    "                    islands[next_idx][j] = migrants[i][j].copy()\n",
    "\n",
    "    return best_global, history"
   ]
  },
  {
   "cell_type": "code",
   "execution_count": 11,
   "id": "b67d09aa-f4b4-4c2a-80c5-bedab9e92535",
   "metadata": {},
   "outputs": [],
   "source": [
    "def best_realocate_island(initial_positions, min_matrix, max_matrix, b, num_islands, migration_interval, migration_size):\n",
    "    return run_ag_island(initial_positions, min_matrix, max_matrix, b, num_islands, migration_interval, migration_size)"
   ]
  },
  {
   "cell_type": "code",
   "execution_count": 12,
   "id": "47daba18-c654-4ae2-acff-f8cb67920116",
   "metadata": {},
   "outputs": [
    {
     "name": "stdout",
     "output_type": "stream",
     "text": [
      "Inicial: Individual:\n",
      "[[1, 1, 0, 0, 0], [1, 1, 1, 0, 0], [0, 1, 1, 1, 0], [0, 0, 1, 1, 1], [0, 0, 0, 1, 1]]\n"
     ]
    }
   ],
   "source": [
    "POP_SIZE = 5\n",
    "GEN = 50\n",
    "MU_TAX = 0.1\n",
    "\n",
    "NUM_ISLAND = 4\n",
    "MIGRATION_INT = 5\n",
    "MIGRATION_SIZE = 2\n",
    "\n",
    "initial_positions = [\n",
    "    [1, 1, 0, 0, 0],\n",
    "    [1, 1, 1, 0, 0],\n",
    "    [0, 1, 1, 1, 0],\n",
    "    [0, 0, 1, 1, 1],\n",
    "    [0, 0, 0, 1, 1]\n",
    "]\n",
    "min_matrix = [\n",
    "    [0, 0, 0, 0, 0],\n",
    "    [0, 0, 0, 0, 0],\n",
    "    [0, 0, 0, 0, 0],\n",
    "    [0, 0, 0, 0, 0],\n",
    "    [0, 0, 0, 0, 0]\n",
    "]\n",
    "max_matrix = [\n",
    "    [100, 80, 0, 0, 0],\n",
    "    [80, 100, 80, 0, 0],\n",
    "    [0, 80, 100, 80, 0],\n",
    "    [0, 0, 80, 100, 80],\n",
    "    [0, 0, 0, 80, 100]\n",
    "]\n",
    "b = [200, 75, 175, 90, 100]\n",
    "\n",
    "print(\"Inicial:\", Individual(initial_positions, min_matrix, max_matrix, b))"
   ]
  },
  {
   "cell_type": "code",
   "execution_count": 13,
   "id": "9ca8ca0e-64ea-4b25-8b08-89ece49fdab4",
   "metadata": {},
   "outputs": [],
   "source": [
    "n = len(initial_positions)\n",
    "tester = [[0.0] * n for _ in range(n)]\n",
    "for i in range(n):\n",
    "    for j in range(n):\n",
    "        if initial_positions[i][j] != 0:\n",
    "            val = initial_positions[i][j] * random.random() * (max_matrix[i][j] - min_matrix[i][j])\n",
    "            tester[i][j] = val\n",
    "            tester[j][i] = val"
   ]
  },
  {
   "cell_type": "code",
   "execution_count": 14,
   "id": "39e73d6e-25b9-4cc2-9b24-1fcd26121cc9",
   "metadata": {},
   "outputs": [
    {
     "name": "stdout",
     "output_type": "stream",
     "text": [
      "Solução:\n",
      "== 5.775508860866899\n",
      "== -41.21419389336454\n",
      "== 75.78383345390458\n",
      "== -69.2680645744692\n",
      "== 35.097668459010194\n",
      "Fitness: 0.22012926327949706\n",
      "Melhor indivíduo encontrado: Individual:\n",
      "[[1, 1, 1, 1, 1], [1, 1, 1, 0, 1], [1, 1, 1, 0, 1], [1, 0, 0, 1, 1], [1, 1, 1, 1, 1]]\n"
     ]
    }
   ],
   "source": [
    "try:\n",
    "    A = np.array(tester)\n",
    "    b_np = np.array(b)\n",
    "    solution = np.linalg.solve(A, b_np)\n",
    "    print(\"Solução:\")\n",
    "    for s in solution:\n",
    "        print(f\"== {s}\")\n",
    "except np.linalg.LinAlgError as e:\n",
    "    print(\"Erro ao resolver:\", e)\n",
    "\n",
    "ind_initial = Individual(initial_positions, min_matrix, max_matrix, b)\n",
    "print(\"Fitness:\", ind_initial.fitness(tester))\n",
    "\n",
    "best, history_simple = best_realocate(initial_positions, min_matrix, max_matrix, b)\n",
    "print(\"Melhor indivíduo encontrado:\", best)"
   ]
  },
  {
   "cell_type": "code",
   "execution_count": 16,
   "id": "13380cba-989b-46a0-91c8-8b8fcdc9c06e",
   "metadata": {},
   "outputs": [
    {
     "name": "stdout",
     "output_type": "stream",
     "text": [
      "Solução:\n",
      "== 2.6723846784851086\n",
      "== 10.79408516606926\n",
      "== -0.2855329085245503\n",
      "== 2.3152393107881477\n",
      "== -1.405895853771457\n",
      "Fitness: 5.240395279305171\n",
      "Melhor indivíduo com estratégia de ilhas:\n",
      "Individual:\n",
      "[[1, 0, 0, 1, 0], [0, 1, 1, 0, 0], [0, 1, 1, 1, 0], [1, 0, 1, 1, 1], [0, 0, 0, 1, 1]]\n"
     ]
    }
   ],
   "source": [
    "best_island, history_island = best_realocate_island(\n",
    "    initial_positions,\n",
    "    min_matrix,\n",
    "    max_matrix,\n",
    "    b,\n",
    "    NUM_ISLAND,\n",
    "    MIGRATION_INT,\n",
    "    MIGRATION_SIZE,\n",
    ")\n",
    "try:\n",
    "    A = np.array(best_island._initialize_graph())\n",
    "    b_np = np.array(b)\n",
    "    solution = np.linalg.solve(A, b_np)\n",
    "    print(\"Solução:\")\n",
    "    for s in solution:\n",
    "        print(f\"== {s}\")\n",
    "except np.linalg.LinAlgError as e:\n",
    "    print(\"Erro ao resolver:\", e)\n",
    "print(\"Fitness:\", best_island.fitness(tester))\n",
    "print(\"Melhor indivíduo com estratégia de ilhas:\")\n",
    "print(best_island)"
   ]
  },
  {
   "cell_type": "code",
   "execution_count": 17,
   "id": "a70ec881-d22c-496e-a448-deaa0ff2ddb9",
   "metadata": {},
   "outputs": [
    {
     "name": "stdout",
     "output_type": "stream",
     "text": [
      "[2.9301257089331667, 2.9301257089331667, 3.0976882655480202, 3.0976882655480202, 3.0976882655480202, 3.0976882655480202, 3.0976882655480202, 3.0976882655480202, 3.0976882655480202, 3.0976882655480202, 3.0976882655480202, 3.0976882655480202, 2.9301257089331667, 2.9301257089331667, 3.0976882655480202, 3.0976882655480202, 3.0976882655480202, 2.5965151796249226, 2.9301257089331667, 2.9301257089331667, 2.9301257089331667, 2.9301257089331667, 3.0976882655480202, 3.0976882655480202, 3.0976882655480202, 3.0976882655480202, 2.89852385867635, 2.89852385867635, 2.9301257089331667, 2.9301257089331667, 2.9301257089331667, 3.0976882655480202, 3.0976882655480202, 3.0976882655480202, 3.0976882655480202, 3.0976882655480202, 3.0976882655480202, 3.0976882655480202, 3.0976882655480202, 2.5965151796249226, 3.0976882655480202, 3.0976882655480202, 3.0976882655480202, 3.0976882655480202, 3.0976882655480202, 3.0976882655480202, 3.0976882655480202, 3.0976882655480202, 2.9301257089331667, 2.9301257089331667]\n"
     ]
    },
    {
     "data": {
      "image/png": "[encoded data removed]",
      "text/plain": [
       "<Figure size 1000x600 with 1 Axes>"
      ]
     },
     "metadata": {},
     "output_type": "display_data"
    }
   ],
   "source": [
    "print(history_simple)\n",
    "plt.figure(figsize=(10, 6))\n",
    "plt.plot(\n",
    "    range(len(history_simple)), \n",
    "    history_simple, \n",
    "    'b-', \n",
    "    label='AG Padrão'\n",
    ")\n",
    "plt.title('Evolução do Fitness (5x5)')\n",
    "plt.xlabel('Geração')\n",
    "plt.ylabel('Melhor Fitness')\n",
    "plt.gca().xaxis.set_major_locator(MaxNLocator(integer=True))\n",
    "plt.legend()\n",
    "plt.grid(True)\n",
    "plt.savefig('evolucao_fitness.png', dpi=300)\n",
    "plt.show()"
   ]
  },
  {
   "cell_type": "code",
   "execution_count": 19,
   "id": "8c2398ac-879b-4228-a4ff-353bae35dc8e",
   "metadata": {},
   "outputs": [
    {
     "name": "stdout",
     "output_type": "stream",
     "text": [
      "0  -  [0.8807814137096056, 0.9091997799575606, 1.0591356514521384, 1.0591356514521384, 1.0591356514521384, 1.0591356514521384, 1.9808523973903098, 1.9808523973903098, 1.9808523973903098, 1.9808523973903098, 1.9808523973903098, 1.9808523973903098, 1.9808523973903098, 1.9808523973903098, 1.9808523973903098, 1.9808523973903098, 1.9808523973903098, 1.9808523973903098, 1.9808523973903098, 1.9808523973903098, 1.9808523973903098, 1.9808523973903098, 1.9808523973903098, 1.9808523973903098, 1.9808523973903098, 1.9808523973903098, 1.9808523973903098, 1.9808523973903098, 1.9808523973903098, 1.9808523973903098, 1.9021587529656183, 1.9808523973903098, 1.9808523973903098, 1.9808523973903098, 1.9808523973903098, 1.9808523973903098, 1.9808523973903098, 1.9808523973903098, 1.9808523973903098, 1.9021587529656183, 1.9021587529656183, 1.9808523973903098, 1.9808523973903098, 1.9021587529656183, 1.9808523973903098, 1.9808523973903098, 1.9021587529656183, 1.9021587529656183, 1.9021587529656183, 1.9021587529656183]\n",
      "1  -  [1.0022086887136459, 1.0022086887136459, 1.9021587529656183, 1.9808523973903098, 1.9808523973903098, 1.9808523973903098, 1.9808523973903098, 1.9808523973903098, 1.9021587529656183, 1.9808523973903098, 1.9808523973903098, 1.9808523973903098, 1.9808523973903098, 1.9808523973903098, 1.9808523973903098, 1.9808523973903098, 1.9808523973903098, 1.9808523973903098, 1.9021587529656183, 1.9021587529656183, 1.9021587529656183, 1.9808523973903098, 1.9808523973903098, 1.9808523973903098, 1.9808523973903098, 1.9808523973903098, 1.9808523973903098, 1.9808523973903098, 1.9808523973903098, 1.9808523973903098, 1.9021587529656183, 1.9808523973903098, 1.9808523973903098, 1.9808523973903098, 1.9808523973903098, 1.9808523973903098, 1.9808523973903098, 1.9021587529656183, 1.9021587529656183, 1.0591356514521384, 1.0591356514521384, 1.0591356514521384, 1.0591356514521384, 1.0591356514521384, 1.9021587529656183, 1.9021587529656183, 1.9021587529656183, 1.9021587529656183, 1.9021587529656183, 1.9808523973903098]\n",
      "2  -  [1.0591356514521384, 1.0591356514521384, 0.934254999192427, 1.9021587529656183, 1.9021587529656183, 1.9021587529656183, 1.9808523973903098, 1.9808523973903098, 1.9021587529656183, 1.9021587529656183, 1.9808523973903098, 1.9808523973903098, 1.9808523973903098, 1.0022086887136459, 1.0022086887136459, 1.9808523973903098, 1.9808523973903098, 1.9021587529656183, 1.9808523973903098, 1.9808523973903098, 1.9808523973903098, 1.9808523973903098, 1.9808523973903098, 1.9808523973903098, 1.9808523973903098, 1.9808523973903098, 1.9808523973903098, 1.9808523973903098, 1.9808523973903098, 1.9808523973903098, 1.9808523973903098, 1.9808523973903098, 1.9808523973903098, 1.9808523973903098, 1.9808523973903098, 1.9808523973903098, 1.9808523973903098, 1.9808523973903098, 1.9021587529656183, 1.9021587529656183, 1.9808523973903098, 1.9808523973903098, 1.9808523973903098, 1.9808523973903098, 1.9808523973903098, 1.9808523973903098, 1.9808523973903098, 1.9808523973903098, 1.9021587529656183, 1.9021587529656183]\n",
      "3  -  [0.8326837404399001, 0.9256341176137012, 1.9021587529656183, 1.9021587529656183, 1.9021587529656183, 1.9021587529656183, 1.9021587529656183, 1.9021587529656183, 1.9808523973903098, 1.9808523973903098, 1.9808523973903098, 1.9808523973903098, 1.9808523973903098, 1.9808523973903098, 1.9808523973903098, 1.9808523973903098, 1.9808523973903098, 1.9808523973903098, 1.9808523973903098, 1.9808523973903098, 1.9808523973903098, 1.9808523973903098, 1.9808523973903098, 1.9808523973903098, 1.9808523973903098, 1.9808523973903098, 1.9808523973903098, 1.9808523973903098, 1.9808523973903098, 1.9808523973903098, 1.9808523973903098, 1.9808523973903098, 1.9808523973903098, 1.9021587529656183, 1.9021587529656183, 1.9808523973903098, 1.9808523973903098, 1.9808523973903098, 1.9808523973903098, 1.9808523973903098, 1.9808523973903098, 1.9808523973903098, 1.9808523973903098, 1.9808523973903098, 1.9808523973903098, 1.9808523973903098, 1.9808523973903098, 1.9808523973903098, 1.9808523973903098, 1.9808523973903098]\n"
     ]
    },
    {
     "data": {
      "image/png": "[encoded data removed]",
      "text/plain": [
       "<Figure size 1000x600 with 1 Axes>"
      ]
     },
     "metadata": {},
     "output_type": "display_data"
    }
   ],
   "source": [
    "plt.figure(figsize=(10, 6))\n",
    "for idx, history in enumerate(history_island):\n",
    "    print(idx , \" - \" , history)\n",
    "    plt.plot(\n",
    "        range(len(history)),\n",
    "        history,\n",
    "        linestyle='--',\n",
    "        label=f'Ilha {idx + 1}'\n",
    "    )\n",
    "plt.title('Evolução do Fitness (5x5)')\n",
    "plt.xlabel('Geração')\n",
    "plt.ylabel('Melhor Fitness por Ilha')\n",
    "plt.gca().xaxis.set_major_locator(MaxNLocator(integer=True))\n",
    "plt.legend()\n",
    "plt.grid(True)\n",
    "plt.savefig('evolucao_fitness.png', dpi=300)\n",
    "plt.show()"
   ]
  },
  {
   "cell_type": "code",
   "execution_count": 29,
   "id": "100ed2d2-bdec-4be5-a3cd-8dca31cb629a",
   "metadata": {},
   "outputs": [
    {
     "name": "stdout",
     "output_type": "stream",
     "text": [
      "POP_SIZE=50 | Fitness=2.2442577821537957\n",
      "POP_SIZE=100 | Fitness=1.050080235664736\n",
      "POP_SIZE=200 | Fitness=2.1931845881005763\n",
      "POP_SIZE=500 | Fitness=1.050080235664736\n",
      "POP_SIZE=1000 | Fitness=1.050080235664736\n",
      "POP_SIZE=1500 | Fitness=2.2156937953031894\n",
      "POP_SIZE=2000 | Fitness=2.2442577821537957\n",
      "POP_SIZE=2500 | Fitness=2.2156937953031894\n",
      "POP_SIZE=3000 | Fitness=2.1931845881005763\n",
      "POP_SIZE=3500 | Fitness=2.2156937953031894\n"
     ]
    }
   ],
   "source": [
    "# Testando diferentes tamanhos\n",
    "for size in [50, 100, 200, 500, 1000, 1500, 2000, 2500, 3000, 3500]:\n",
    "    POP_SIZE = size\n",
    "    best, _ = best_realocate(initial_positions, min_matrix, max_matrix, b)\n",
    "    print(f\"POP_SIZE={size} | Fitness={best.fitness(tester)}\")"
   ]
  },
  {
   "cell_type": "code",
   "execution_count": 18,
   "id": "638b0048-80a6-4440-8aee-1a58f60f0513",
   "metadata": {},
   "outputs": [
    {
     "name": "stdout",
     "output_type": "stream",
     "text": [
      "POP_SIZE=50 | Fitness=5.8027293862303475\n",
      "POP_SIZE=100 | Fitness=5.505351924444807\n",
      "POP_SIZE=200 | Fitness=4.070780508098802\n",
      "POP_SIZE=500 | Fitness=5.445364746829261\n",
      "POP_SIZE=1000 | Fitness=5.240395279305171\n",
      "POP_SIZE=1500 | Fitness=5.219968891257663\n",
      "POP_SIZE=2000 | Fitness=5.850047592996632\n",
      "POP_SIZE=2500 | Fitness=4.816601734825536\n",
      "POP_SIZE=3000 | Fitness=5.505351924444807\n",
      "POP_SIZE=3500 | Fitness=4.070780508098802\n"
     ]
    }
   ],
   "source": [
    "# Testando diferentes tamanhos\n",
    "for size in [50, 100, 200, 500, 1000, 1500, 2000, 2500, 3000, 3500]:\n",
    "    POP_SIZE = size\n",
    "    best, _ = best_realocate_island(\n",
    "        initial_positions,\n",
    "        min_matrix,\n",
    "        max_matrix,\n",
    "        b,\n",
    "        NUM_ISLAND,\n",
    "        size/10,\n",
    "        MIGRATION_SIZE,\n",
    "    )\n",
    "    print(f\"POP_SIZE={size} | Fitness={best.fitness(tester)}\")"
   ]
  },
  {
   "cell_type": "code",
   "execution_count": 30,
   "id": "f6be01a8-e73f-4b84-bb4c-abecc5ef48dd",
   "metadata": {},
   "outputs": [
    {
     "name": "stdout",
     "output_type": "stream",
     "text": [
      "Taxa 0.01: Fitness=2.2156937953031894\n",
      "Taxa 0.05: Fitness=2.2156937953031894\n",
      "Taxa 0.1: Fitness=2.295834734289364\n",
      "Taxa 0.2: Fitness=2.295834734289364\n",
      "Taxa 0.25: Fitness=2.295834734289364\n",
      "Taxa 0.3: Fitness=2.295834734289364\n",
      "Taxa 0.35: Fitness=2.2442577821537957\n",
      "Taxa 0.4: Fitness=2.2156937953031894\n"
     ]
    }
   ],
   "source": [
    "# Testando taxas de mutação\n",
    "POP_SIZE = 1000\n",
    "for rate in [0.01, 0.05, 0.1, 0.2, 0.25, 0.3, 0.35, 0.4]:\n",
    "    MU_TAX = rate\n",
    "    best, _ = best_realocate(initial_positions, min_matrix, max_matrix, b)\n",
    "    print(f\"Taxa {rate}: Fitness={best.fitness(tester)}\")"
   ]
  },
  {
   "cell_type": "code",
   "execution_count": 17,
   "id": "e970ca06-1a5e-4d3f-bb09-595ec41e25ce",
   "metadata": {},
   "outputs": [
    {
     "name": "stdout",
     "output_type": "stream",
     "text": [
      "Taxa 0.01: Fitness=7.925729264003386\n",
      "Taxa 0.05: Fitness=2.9439457394868804\n",
      "Taxa 0.1: Fitness=5.680427150496505\n",
      "Taxa 0.2: Fitness=7.727644162489405\n",
      "Taxa 0.25: Fitness=7.925729264003386\n",
      "Taxa 0.3: Fitness=7.887209133589491\n",
      "Taxa 0.35: Fitness=7.925729264003386\n",
      "Taxa 0.4: Fitness=7.801904149165451\n"
     ]
    }
   ],
   "source": [
    "# Testando taxas de mutação\n",
    "POP_SIZE = 1000\n",
    "for rate in [0.01, 0.05, 0.1, 0.2, 0.25, 0.3, 0.35, 0.4]:\n",
    "    MU_TAX = rate\n",
    "    best, _ = best_realocate_island(\n",
    "        initial_positions,\n",
    "        min_matrix,\n",
    "        max_matrix,\n",
    "        b,\n",
    "        NUM_ISLAND,\n",
    "        MIGRATION_INT,\n",
    "        MIGRATION_SIZE,\n",
    "    )\n",
    "    print(f\"Taxa {rate}: Fitness={best.fitness(tester)}\")"
   ]
  },
  {
   "cell_type": "code",
   "execution_count": 16,
   "id": "f170295d-1455-4a37-bb5e-71eafa288634",
   "metadata": {},
   "outputs": [
    {
     "name": "stdout",
     "output_type": "stream",
     "text": [
      "Taxa 50: Fitness=3.6301526468331278\n",
      "Taxa 100: Fitness=0.24907678139795073\n",
      "Taxa 200: Fitness=6.472257834485915\n",
      "Taxa 500: Fitness=3.6301526468331278\n",
      "Taxa 1000: Fitness=3.9767784792938974\n",
      "Taxa 1500: Fitness=0.22012926327949706\n",
      "Taxa 2000: Fitness=3.4186971814707334\n",
      "Taxa 2500: Fitness=0.24907678139795073\n",
      "Taxa 3000: Fitness=3.4186971814707334\n"
     ]
    }
   ],
   "source": [
    "# Testando gerações\n",
    "POP_SIZE = 200\n",
    "MU_TAX = 0.01\n",
    "for rate in [50, 100, 200, 500, 1000, 1500, 2000, 2500, 3000]:\n",
    "    GEN = rate\n",
    "    best, _ = best_realocate(initial_positions, min_matrix, max_matrix, b)\n",
    "    print(f\"Taxa {rate}: Fitness={best.fitness(tester)}\")"
   ]
  },
  {
   "cell_type": "code",
   "execution_count": 17,
   "id": "9c39137d-fb76-4f52-b207-e994aa4f908a",
   "metadata": {},
   "outputs": [
    {
     "name": "stdout",
     "output_type": "stream",
     "text": [
      "Taxa 50: Fitness=6.472257834485915\n",
      "Taxa 100: Fitness=0.22012926327949706\n",
      "Taxa 200: Fitness=6.472257834485915\n",
      "Taxa 500: Fitness=0.24907678139795073\n",
      "Taxa 1000: Fitness=6.472257834485915\n",
      "Taxa 1500: Fitness=6.472257834485915\n",
      "Taxa 2000: Fitness=6.472257834485915\n",
      "Taxa 2500: Fitness=5.947382658884391\n",
      "Taxa 3000: Fitness=3.4186971814707334\n"
     ]
    }
   ],
   "source": [
    "# Testando taxas de mutação\n",
    "POP_SIZE = 200\n",
    "MU_TAX = 0.01\n",
    "for rate in [50, 100, 200, 500, 1000, 1500, 2000, 2500, 3000]:\n",
    "    GEN = rate\n",
    "    best, _ = best_realocate_island(\n",
    "        initial_positions,\n",
    "        min_matrix,\n",
    "        max_matrix,\n",
    "        b,\n",
    "        NUM_ISLAND,\n",
    "        MIGRATION_INT,\n",
    "        MIGRATION_SIZE,\n",
    "    )\n",
    "    print(f\"Taxa {rate}: Fitness={best.fitness(tester)}\")"
   ]
  },
  {
   "cell_type": "code",
   "execution_count": null,
   "id": "c8b82e93-2e47-4d59-92be-8cfdf8990262",
   "metadata": {},
   "outputs": [],
   "source": [
    "# Testando ilhas\n",
    "POP_SIZE = 200\n",
    "MU_TAX = 0.01\n",
    "GEN = 50\n",
    "for rate in [1, 2, 3, 4, 5, 6, 7, 8, 9]:\n",
    "    best, _ = best_realocate_island(\n",
    "        initial_positions,\n",
    "        min_matrix,\n",
    "        max_matrix,\n",
    "        b,\n",
    "        NUM_ISLAND,\n",
    "        MIGRATION_INT,\n",
    "        MIGRATION_SIZE,\n",
    "    )\n",
    "    print(f\"Taxa {rate}: Fitness={best.fitness(tester)}\")"
   ]
  },
  {
   "cell_type": "code",
   "execution_count": 31,
   "id": "9286ca6a-281b-492e-a789-8e430053f02b",
   "metadata": {
    "scrolled": true
   },
   "outputs": [
    {
     "name": "stdout",
     "output_type": "stream",
     "text": [
      "Intervalo 1: Fitness=2.2156937953031894\n",
      "Intervalo 5: Fitness=2.2156937953031894\n",
      "Intervalo 10: Fitness=2.2156937953031894\n",
      "Intervalo 15: Fitness=1.217563208946228\n",
      "Intervalo 20: Fitness=1.050080235664736\n",
      "Intervalo 25: Fitness=1.217563208946228\n",
      "Intervalo 30: Fitness=2.2442577821537957\n"
     ]
    }
   ],
   "source": [
    "# Migração com diferentes intervalos\n",
    "POP_SIZE = 1000\n",
    "MU_TAX = 0.05\n",
    "for interval in [1, 5, 10, 15, 20, 25, 30]:\n",
    "    best, _ = best_realocate_island(\n",
    "        initial_positions,\n",
    "        min_matrix,\n",
    "        max_matrix,\n",
    "        b,\n",
    "        NUM_ISLAND,\n",
    "        interval,\n",
    "        MIGRATION_SIZE,\n",
    "    )\n",
    "    print(f\"Intervalo {interval}: Fitness={best.fitness(tester)}\")"
   ]
  },
  {
   "cell_type": "code",
   "execution_count": 32,
   "id": "587f0086-768c-4b87-a144-1960ec3743db",
   "metadata": {},
   "outputs": [
    {
     "name": "stdout",
     "output_type": "stream",
     "text": [
      "Tamanho 1: Fitness=2.142523858719634\n",
      "Tamanho 2: Fitness=1.050080235664736\n",
      "Tamanho 5: Fitness=2.2156937953031894\n",
      "Tamanho 10: Fitness=2.2478243148488093\n"
     ]
    }
   ],
   "source": [
    "# Testando diferentes tamanhos de migração\n",
    "POP_SIZE = 1000\n",
    "MU_TAX = 0.05\n",
    "MIGRATION_INT = 30\n",
    "for size in [1, 2, 5, 10]:\n",
    "    best, _ = best_realocate_island(\n",
    "        initial_positions,\n",
    "        min_matrix,\n",
    "        max_matrix,\n",
    "        b,\n",
    "        NUM_ISLAND,\n",
    "        MIGRATION_INT,\n",
    "        size,\n",
    "    )\n",
    "    print(f\"Tamanho {size}: Fitness={best.fitness(tester)}\")"
   ]
  },
  {
   "cell_type": "code",
   "execution_count": null,
   "id": "880be6b1-2df2-4dc6-9e81-7f4422bc968e",
   "metadata": {},
   "outputs": [],
   "source": []
  }
 ],
 "metadata": {
  "kernelspec": {
   "display_name": "Python 3 (ipykernel)",
   "language": "python",
   "name": "python3"
  },
  "language_info": {
   "codemirror_mode": {
    "name": "ipython",
    "version": 3
   },
   "file_extension": ".py",
   "mimetype": "text/x-python",
   "name": "python",
   "nbconvert_exporter": "python",
   "pygments_lexer": "ipython3",
   "version": "3.13.1"
  }
 },
 "nbformat": 4,
 "nbformat_minor": 5
}
